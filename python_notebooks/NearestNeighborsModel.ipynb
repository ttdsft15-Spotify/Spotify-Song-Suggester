{
 "cells": [
  {
   "cell_type": "code",
   "execution_count": 1,
   "id": "29ee2486",
   "metadata": {},
   "outputs": [],
   "source": [
    "%%capture\n",
    "!pip install category-encoders\n",
    "!pip install pyldavis"
   ]
  },
  {
   "cell_type": "code",
   "execution_count": 2,
   "id": "0cdef03b",
   "metadata": {},
   "outputs": [
    {
     "name": "stderr",
     "output_type": "stream",
     "text": [
      "/Users/dylansivori/.local/share/virtualenvs/Spotify-Song-Suggester-AdyWyJ8v/lib/python3.8/site-packages/gensim/similarities/__init__.py:15: UserWarning: The gensim.similarities.levenshtein submodule is disabled, because the optional Levenshtein package <https://pypi.org/project/python-Levenshtein/> is unavailable. Install Levenhstein (e.g. `pip install python-Levenshtein`) to suppress this warning.\n",
      "  warnings.warn(msg)\n",
      "/Users/dylansivori/.local/share/virtualenvs/Spotify-Song-Suggester-AdyWyJ8v/lib/python3.8/site-packages/patsy/constraint.py:13: DeprecationWarning: Using or importing the ABCs from 'collections' instead of from 'collections.abc' is deprecated since Python 3.3, and in 3.9 it will stop working\n",
      "  from collections import Mapping\n"
     ]
    }
   ],
   "source": [
    "# import libraries\n",
    "import pandas as pd\n",
    "from sklearn.neighbors import NearestNeighbors\n",
    "import joblib\n",
    "import spacy\n",
    "import re\n",
    "import gensim\n",
    "import gensim.corpora as corpora\n",
    "from gensim.utils import simple_preprocess\n",
    "from gensim.models import CoherenceModel\n",
    "import pyLDAvis\n",
    "import pyLDAvis.gensim_models\n",
    "from category_encoders import OneHotEncoder\n",
    "import numpy as np"
   ]
  },
  {
   "cell_type": "code",
   "execution_count": 3,
   "id": "beb21657",
   "metadata": {},
   "outputs": [
    {
     "name": "stderr",
     "output_type": "stream",
     "text": [
      "/Users/dylansivori/.local/share/virtualenvs/Spotify-Song-Suggester-AdyWyJ8v/lib/python3.8/site-packages/ipykernel/ipkernel.py:283: DeprecationWarning: `should_run_async` will not call `transform_cell` automatically in the future. Please pass the result to `transformed_cell` argument and any exception that happen during thetransform in `preprocessing_exc_tuple` in IPython 7.17 and above.\n",
      "  and should_run_async(code)\n"
     ]
    }
   ],
   "source": [
    "# run once\n",
    "# !python -m spacy download en_core_web_lg"
   ]
  },
  {
   "cell_type": "code",
   "execution_count": 4,
   "id": "e4e9fa29",
   "metadata": {},
   "outputs": [
    {
     "name": "stderr",
     "output_type": "stream",
     "text": [
      "/Users/dylansivori/.local/share/virtualenvs/Spotify-Song-Suggester-AdyWyJ8v/lib/python3.8/site-packages/ipykernel/ipkernel.py:283: DeprecationWarning: `should_run_async` will not call `transform_cell` automatically in the future. Please pass the result to `transformed_cell` argument and any exception that happen during thetransform in `preprocessing_exc_tuple` in IPython 7.17 and above.\n",
      "  and should_run_async(code)\n"
     ]
    }
   ],
   "source": [
    "# load spacy model\n",
    "nlp = spacy.load(\"en_core_web_lg\")"
   ]
  },
  {
   "cell_type": "markdown",
   "id": "024e35c6",
   "metadata": {},
   "source": [
    "# Baseline Nearest Neighbors Model"
   ]
  },
  {
   "cell_type": "code",
   "execution_count": 5,
   "id": "727c2ae5",
   "metadata": {},
   "outputs": [
    {
     "name": "stderr",
     "output_type": "stream",
     "text": [
      "/Users/dylansivori/.local/share/virtualenvs/Spotify-Song-Suggester-AdyWyJ8v/lib/python3.8/site-packages/ipykernel/ipkernel.py:283: DeprecationWarning: `should_run_async` will not call `transform_cell` automatically in the future. Please pass the result to `transformed_cell` argument and any exception that happen during thetransform in `preprocessing_exc_tuple` in IPython 7.17 and above.\n",
      "  and should_run_async(code)\n",
      "<>:31: DeprecationWarning: invalid escape sequence \\S\n",
      "<>:31: DeprecationWarning: invalid escape sequence \\S\n",
      "<ipython-input-5-f5e2b701b702>:31: DeprecationWarning: invalid escape sequence \\S\n",
      "  strip_post_dash = ' - \\S+'\n"
     ]
    }
   ],
   "source": [
    "# read in data\n",
    "data_path = \"../data/\"\n",
    "\n",
    "def wrangle(data_path):\n",
    "\n",
    "    # reads in the data\n",
    "    df_tracks = pd.read_csv(data_path + 'tracks.csv', parse_dates=['release_date'])\n",
    "    df_lyrics = pd.read_csv(data_path + 'lyrics.csv') #usecols=['SName', 'Lyric']\n",
    "    \n",
    "    # drop null values on df_tracks\n",
    "    df_tracks.dropna(inplace=True)\n",
    "    df_lyrics.dropna(inplace=True)\n",
    "    \n",
    "    # case normalization on song names\n",
    "    df_lyrics['SName'] = df_lyrics['SName'].apply(lambda x: x.lower())\n",
    "    df_tracks['name'] = df_tracks['name'].apply(lambda x: x.lower())\n",
    "    \n",
    "    # clean up df_lyrics data for merging\n",
    "    df_lyrics = df_lyrics.rename(columns={'ALink': 'Artist', 'SName': 'name'})\n",
    "    df_lyrics['Artist'] = df_lyrics['Artist'].apply(lambda x: x.rstrip('/').lstrip('/').replace('-', \" \").lower())\n",
    "\n",
    "    # drops duplicate lyrics \n",
    "    df_lyrics = df_lyrics.drop_duplicates(subset=['Artist', 'name'])\n",
    "    \n",
    "    # clean up df_tracks data for merging\n",
    "    df_tracks = df_tracks.rename(columns={'artists': 'Artist'})\n",
    "\n",
    "    df_tracks['Artist'] = df_tracks['Artist'].apply(lambda x: x.lstrip(\"['\").rstrip(\"']\").lower())\n",
    "    \n",
    "    # use regex to strip acoustic/remix versions\n",
    "    strip_post_dash = ' - \\S+'\n",
    "    strip_version = ' version'\n",
    "\n",
    "    df_tracks['name'] = df_tracks['name'].apply(lambda song_name: re.sub(strip_post_dash, \"\", song_name))\n",
    "    df_tracks['name'] = df_tracks['name'].apply(lambda song_name: re.sub(strip_version, \"\", song_name))\n",
    "    \n",
    "    # drop duplicate rows\n",
    "    df_tracks = df_tracks.drop_duplicates(subset=['Artist', 'name'])\n",
    "    \n",
    "    df_merged = pd.merge(df_lyrics, df_tracks, on=['Artist', 'name'], how='inner')\n",
    "    \n",
    "    # drop unwanted columns\n",
    "    df_merged = df_merged.drop(columns=['duration_ms'])\n",
    "    \n",
    "    df_merged = df_merged[df_merged['Idiom'] == 'ENGLISH']\n",
    "    \n",
    "    # original merge dataframes\n",
    "    # df_merged = pd.merge(df_tracks, df_lyrics, how='inner', left_on=['name'], right_on='SName')\n",
    "    \n",
    "    \n",
    "    # original drop columns not used in NN model\n",
    "    # df_merged = df_merged.drop(columns= ['id', 'name', 'artists', 'id_artists', 'release_date', ])\n",
    "    \n",
    "    return df_merged\n",
    "\n",
    "def keep_wanted_columns(df):\n",
    "    df_dropped = df[['popularity', 'explicit', 'danceability', 'energy', 'key', 'loudness', 'mode', 'speechiness', 'acousticness',\n",
    "       'instrumentalness', 'liveness', 'valence', 'tempo', 'time_signature', 'new_topic_name_Existential', 'new_topic_name_Religion',\n",
    "        'new_topic_name_Gangsta', 'new_topic_name_Poppy','new_topic_name_Love']]\n",
    "    \n",
    "    #drop(columns= ['Artist', 'name', 'SLink', 'Lyric', 'Idiom', 'id_artists', 'id', 'release_date'])\n",
    "    \n",
    "    return df_dropped"
   ]
  },
  {
   "cell_type": "code",
   "execution_count": 6,
   "id": "fd4f13b2",
   "metadata": {},
   "outputs": [
    {
     "name": "stderr",
     "output_type": "stream",
     "text": [
      "/Users/dylansivori/.local/share/virtualenvs/Spotify-Song-Suggester-AdyWyJ8v/lib/python3.8/site-packages/ipykernel/ipkernel.py:283: DeprecationWarning: `should_run_async` will not call `transform_cell` automatically in the future. Please pass the result to `transformed_cell` argument and any exception that happen during thetransform in `preprocessing_exc_tuple` in IPython 7.17 and above.\n",
      "  and should_run_async(code)\n"
     ]
    }
   ],
   "source": [
    "df_merged = wrangle(data_path)"
   ]
  },
  {
   "cell_type": "code",
   "execution_count": 7,
   "id": "ab65703a",
   "metadata": {
    "scrolled": true
   },
   "outputs": [
    {
     "name": "stderr",
     "output_type": "stream",
     "text": [
      "/Users/dylansivori/.local/share/virtualenvs/Spotify-Song-Suggester-AdyWyJ8v/lib/python3.8/site-packages/ipykernel/ipkernel.py:283: DeprecationWarning: `should_run_async` will not call `transform_cell` automatically in the future. Please pass the result to `transformed_cell` argument and any exception that happen during thetransform in `preprocessing_exc_tuple` in IPython 7.17 and above.\n",
      "  and should_run_async(code)\n"
     ]
    },
    {
     "data": {
      "text/html": [
       "<div>\n",
       "<style scoped>\n",
       "    .dataframe tbody tr th:only-of-type {\n",
       "        vertical-align: middle;\n",
       "    }\n",
       "\n",
       "    .dataframe tbody tr th {\n",
       "        vertical-align: top;\n",
       "    }\n",
       "\n",
       "    .dataframe thead th {\n",
       "        text-align: right;\n",
       "    }\n",
       "</style>\n",
       "<table border=\"1\" class=\"dataframe\">\n",
       "  <thead>\n",
       "    <tr style=\"text-align: right;\">\n",
       "      <th></th>\n",
       "      <th>Artist</th>\n",
       "      <th>name</th>\n",
       "      <th>SLink</th>\n",
       "      <th>Lyric</th>\n",
       "      <th>Idiom</th>\n",
       "      <th>id</th>\n",
       "      <th>popularity</th>\n",
       "      <th>explicit</th>\n",
       "      <th>id_artists</th>\n",
       "      <th>release_date</th>\n",
       "      <th>...</th>\n",
       "      <th>key</th>\n",
       "      <th>loudness</th>\n",
       "      <th>mode</th>\n",
       "      <th>speechiness</th>\n",
       "      <th>acousticness</th>\n",
       "      <th>instrumentalness</th>\n",
       "      <th>liveness</th>\n",
       "      <th>valence</th>\n",
       "      <th>tempo</th>\n",
       "      <th>time_signature</th>\n",
       "    </tr>\n",
       "  </thead>\n",
       "  <tbody>\n",
       "    <tr>\n",
       "      <th>0</th>\n",
       "      <td>12 stones</td>\n",
       "      <td>world so cold</td>\n",
       "      <td>/12-stones/world-so-cold.html</td>\n",
       "      <td>It starts with pain, followed by hate. Fueled ...</td>\n",
       "      <td>ENGLISH</td>\n",
       "      <td>471eQ7hcJ7JdGY1NzMmUeg</td>\n",
       "      <td>55</td>\n",
       "      <td>0</td>\n",
       "      <td>['0DrXhci3WAyo0WJv1RBOG6']</td>\n",
       "      <td>2007-01-01</td>\n",
       "      <td>...</td>\n",
       "      <td>4</td>\n",
       "      <td>-4.949</td>\n",
       "      <td>0</td>\n",
       "      <td>0.0443</td>\n",
       "      <td>0.472000</td>\n",
       "      <td>0.000000</td>\n",
       "      <td>0.360</td>\n",
       "      <td>0.394</td>\n",
       "      <td>186.227</td>\n",
       "      <td>3</td>\n",
       "    </tr>\n",
       "    <tr>\n",
       "      <th>1</th>\n",
       "      <td>12 stones</td>\n",
       "      <td>anthem for the underdog</td>\n",
       "      <td>/12-stones/anthem-for-the-underdog.html</td>\n",
       "      <td>You say you know just who I am. But you can't ...</td>\n",
       "      <td>ENGLISH</td>\n",
       "      <td>6FFwt1ea9hJ4MfMQLywahm</td>\n",
       "      <td>59</td>\n",
       "      <td>0</td>\n",
       "      <td>['0DrXhci3WAyo0WJv1RBOG6']</td>\n",
       "      <td>2007-01-01</td>\n",
       "      <td>...</td>\n",
       "      <td>5</td>\n",
       "      <td>-3.424</td>\n",
       "      <td>1</td>\n",
       "      <td>0.0626</td>\n",
       "      <td>0.000651</td>\n",
       "      <td>0.000000</td>\n",
       "      <td>0.339</td>\n",
       "      <td>0.468</td>\n",
       "      <td>93.977</td>\n",
       "      <td>3</td>\n",
       "    </tr>\n",
       "    <tr>\n",
       "      <th>2</th>\n",
       "      <td>12 stones</td>\n",
       "      <td>we are one</td>\n",
       "      <td>/12-stones/we-are-one.html</td>\n",
       "      <td>We walk alone. In the unknown. We live to win ...</td>\n",
       "      <td>ENGLISH</td>\n",
       "      <td>4lhqal0Hq63U2wETCeBdG1</td>\n",
       "      <td>58</td>\n",
       "      <td>0</td>\n",
       "      <td>['0DrXhci3WAyo0WJv1RBOG6']</td>\n",
       "      <td>2010-01-01</td>\n",
       "      <td>...</td>\n",
       "      <td>5</td>\n",
       "      <td>-4.041</td>\n",
       "      <td>0</td>\n",
       "      <td>0.1140</td>\n",
       "      <td>0.000119</td>\n",
       "      <td>0.000016</td>\n",
       "      <td>0.233</td>\n",
       "      <td>0.306</td>\n",
       "      <td>127.102</td>\n",
       "      <td>4</td>\n",
       "    </tr>\n",
       "    <tr>\n",
       "      <th>3</th>\n",
       "      <td>3 doors down</td>\n",
       "      <td>here without you</td>\n",
       "      <td>/3-doors-down/here-without-you.html</td>\n",
       "      <td>A hundred days have made me older,. Since the ...</td>\n",
       "      <td>ENGLISH</td>\n",
       "      <td>3NLrRZoMF0Lx6zTlYqeIo4</td>\n",
       "      <td>76</td>\n",
       "      <td>0</td>\n",
       "      <td>['2RTUTCvo6onsAnheUk3aL9']</td>\n",
       "      <td>2002-11-12</td>\n",
       "      <td>...</td>\n",
       "      <td>10</td>\n",
       "      <td>-6.817</td>\n",
       "      <td>0</td>\n",
       "      <td>0.0252</td>\n",
       "      <td>0.049200</td>\n",
       "      <td>0.000000</td>\n",
       "      <td>0.205</td>\n",
       "      <td>0.233</td>\n",
       "      <td>143.994</td>\n",
       "      <td>4</td>\n",
       "    </tr>\n",
       "    <tr>\n",
       "      <th>4</th>\n",
       "      <td>3 doors down</td>\n",
       "      <td>when i'm gone</td>\n",
       "      <td>/3-doors-down/when-im-gone.html</td>\n",
       "      <td>There's another world inside of me that you ma...</td>\n",
       "      <td>ENGLISH</td>\n",
       "      <td>3WbphvawbMZ8FyqDxYGdSQ</td>\n",
       "      <td>70</td>\n",
       "      <td>0</td>\n",
       "      <td>['2RTUTCvo6onsAnheUk3aL9']</td>\n",
       "      <td>2002-11-12</td>\n",
       "      <td>...</td>\n",
       "      <td>7</td>\n",
       "      <td>-5.611</td>\n",
       "      <td>1</td>\n",
       "      <td>0.0284</td>\n",
       "      <td>0.003850</td>\n",
       "      <td>0.000000</td>\n",
       "      <td>0.103</td>\n",
       "      <td>0.374</td>\n",
       "      <td>148.095</td>\n",
       "      <td>4</td>\n",
       "    </tr>\n",
       "  </tbody>\n",
       "</table>\n",
       "<p>5 rows × 22 columns</p>\n",
       "</div>"
      ],
      "text/plain": [
       "         Artist                     name  \\\n",
       "0     12 stones            world so cold   \n",
       "1     12 stones  anthem for the underdog   \n",
       "2     12 stones               we are one   \n",
       "3  3 doors down         here without you   \n",
       "4  3 doors down            when i'm gone   \n",
       "\n",
       "                                     SLink  \\\n",
       "0            /12-stones/world-so-cold.html   \n",
       "1  /12-stones/anthem-for-the-underdog.html   \n",
       "2               /12-stones/we-are-one.html   \n",
       "3      /3-doors-down/here-without-you.html   \n",
       "4          /3-doors-down/when-im-gone.html   \n",
       "\n",
       "                                               Lyric    Idiom  \\\n",
       "0  It starts with pain, followed by hate. Fueled ...  ENGLISH   \n",
       "1  You say you know just who I am. But you can't ...  ENGLISH   \n",
       "2  We walk alone. In the unknown. We live to win ...  ENGLISH   \n",
       "3  A hundred days have made me older,. Since the ...  ENGLISH   \n",
       "4  There's another world inside of me that you ma...  ENGLISH   \n",
       "\n",
       "                       id  popularity  explicit                  id_artists  \\\n",
       "0  471eQ7hcJ7JdGY1NzMmUeg          55         0  ['0DrXhci3WAyo0WJv1RBOG6']   \n",
       "1  6FFwt1ea9hJ4MfMQLywahm          59         0  ['0DrXhci3WAyo0WJv1RBOG6']   \n",
       "2  4lhqal0Hq63U2wETCeBdG1          58         0  ['0DrXhci3WAyo0WJv1RBOG6']   \n",
       "3  3NLrRZoMF0Lx6zTlYqeIo4          76         0  ['2RTUTCvo6onsAnheUk3aL9']   \n",
       "4  3WbphvawbMZ8FyqDxYGdSQ          70         0  ['2RTUTCvo6onsAnheUk3aL9']   \n",
       "\n",
       "  release_date  ...  key  loudness  mode  speechiness  acousticness  \\\n",
       "0   2007-01-01  ...    4    -4.949     0       0.0443      0.472000   \n",
       "1   2007-01-01  ...    5    -3.424     1       0.0626      0.000651   \n",
       "2   2010-01-01  ...    5    -4.041     0       0.1140      0.000119   \n",
       "3   2002-11-12  ...   10    -6.817     0       0.0252      0.049200   \n",
       "4   2002-11-12  ...    7    -5.611     1       0.0284      0.003850   \n",
       "\n",
       "   instrumentalness  liveness  valence    tempo  time_signature  \n",
       "0          0.000000     0.360    0.394  186.227               3  \n",
       "1          0.000000     0.339    0.468   93.977               3  \n",
       "2          0.000016     0.233    0.306  127.102               4  \n",
       "3          0.000000     0.205    0.233  143.994               4  \n",
       "4          0.000000     0.103    0.374  148.095               4  \n",
       "\n",
       "[5 rows x 22 columns]"
      ]
     },
     "execution_count": 7,
     "metadata": {},
     "output_type": "execute_result"
    }
   ],
   "source": [
    "df_merged.head()"
   ]
  },
  {
   "cell_type": "code",
   "execution_count": 8,
   "id": "ee85a394",
   "metadata": {
    "scrolled": true
   },
   "outputs": [
    {
     "name": "stderr",
     "output_type": "stream",
     "text": [
      "/Users/dylansivori/.local/share/virtualenvs/Spotify-Song-Suggester-AdyWyJ8v/lib/python3.8/site-packages/ipykernel/ipkernel.py:283: DeprecationWarning: `should_run_async` will not call `transform_cell` automatically in the future. Please pass the result to `transformed_cell` argument and any exception that happen during thetransform in `preprocessing_exc_tuple` in IPython 7.17 and above.\n",
      "  and should_run_async(code)\n"
     ]
    },
    {
     "data": {
      "text/html": [
       "<div>\n",
       "<style scoped>\n",
       "    .dataframe tbody tr th:only-of-type {\n",
       "        vertical-align: middle;\n",
       "    }\n",
       "\n",
       "    .dataframe tbody tr th {\n",
       "        vertical-align: top;\n",
       "    }\n",
       "\n",
       "    .dataframe thead th {\n",
       "        text-align: right;\n",
       "    }\n",
       "</style>\n",
       "<table border=\"1\" class=\"dataframe\">\n",
       "  <thead>\n",
       "    <tr style=\"text-align: right;\">\n",
       "      <th></th>\n",
       "      <th>Artist</th>\n",
       "      <th>name</th>\n",
       "      <th>SLink</th>\n",
       "      <th>Lyric</th>\n",
       "      <th>Idiom</th>\n",
       "      <th>id</th>\n",
       "      <th>popularity</th>\n",
       "      <th>explicit</th>\n",
       "      <th>id_artists</th>\n",
       "      <th>release_date</th>\n",
       "      <th>...</th>\n",
       "      <th>key</th>\n",
       "      <th>loudness</th>\n",
       "      <th>mode</th>\n",
       "      <th>speechiness</th>\n",
       "      <th>acousticness</th>\n",
       "      <th>instrumentalness</th>\n",
       "      <th>liveness</th>\n",
       "      <th>valence</th>\n",
       "      <th>tempo</th>\n",
       "      <th>time_signature</th>\n",
       "    </tr>\n",
       "  </thead>\n",
       "  <tbody>\n",
       "    <tr>\n",
       "      <th>3776</th>\n",
       "      <td>john lennon</td>\n",
       "      <td>imagine</td>\n",
       "      <td>/john-lennon/imagine.html</td>\n",
       "      <td>Imagine there's no heaven. It's easy if you tr...</td>\n",
       "      <td>ENGLISH</td>\n",
       "      <td>4lwh5BoHBFGjKNAF3sNNCK</td>\n",
       "      <td>25</td>\n",
       "      <td>0</td>\n",
       "      <td>['4x1nvY2FN8jxqAFA0DA02H']</td>\n",
       "      <td>1971-09-09</td>\n",
       "      <td>...</td>\n",
       "      <td>0</td>\n",
       "      <td>-11.407</td>\n",
       "      <td>1</td>\n",
       "      <td>0.029</td>\n",
       "      <td>0.947</td>\n",
       "      <td>0.00003</td>\n",
       "      <td>0.0689</td>\n",
       "      <td>0.218</td>\n",
       "      <td>74.4</td>\n",
       "      <td>4</td>\n",
       "    </tr>\n",
       "  </tbody>\n",
       "</table>\n",
       "<p>1 rows × 22 columns</p>\n",
       "</div>"
      ],
      "text/plain": [
       "           Artist     name                      SLink  \\\n",
       "3776  john lennon  imagine  /john-lennon/imagine.html   \n",
       "\n",
       "                                                  Lyric    Idiom  \\\n",
       "3776  Imagine there's no heaven. It's easy if you tr...  ENGLISH   \n",
       "\n",
       "                          id  popularity  explicit  \\\n",
       "3776  4lwh5BoHBFGjKNAF3sNNCK          25         0   \n",
       "\n",
       "                      id_artists release_date  ...  key  loudness  mode  \\\n",
       "3776  ['4x1nvY2FN8jxqAFA0DA02H']   1971-09-09  ...    0   -11.407     1   \n",
       "\n",
       "      speechiness  acousticness  instrumentalness  liveness  valence  tempo  \\\n",
       "3776        0.029         0.947           0.00003    0.0689    0.218   74.4   \n",
       "\n",
       "      time_signature  \n",
       "3776               4  \n",
       "\n",
       "[1 rows x 22 columns]"
      ]
     },
     "execution_count": 8,
     "metadata": {},
     "output_type": "execute_result"
    }
   ],
   "source": [
    "# user selects what song\n",
    "user_selected_song = 'imagine'\n",
    "user_selected_artist = 'john lennon'\n",
    "\n",
    "song_row = df_merged[(df_merged['name'] == user_selected_song) & (df_merged['Artist'] == user_selected_artist)]\n",
    "song_row"
   ]
  },
  {
   "cell_type": "markdown",
   "id": "03da7bc3",
   "metadata": {},
   "source": [
    "# Natural Language Processing"
   ]
  },
  {
   "cell_type": "code",
   "execution_count": 9,
   "id": "0e908925",
   "metadata": {},
   "outputs": [
    {
     "name": "stderr",
     "output_type": "stream",
     "text": [
      "/Users/dylansivori/.local/share/virtualenvs/Spotify-Song-Suggester-AdyWyJ8v/lib/python3.8/site-packages/ipykernel/ipkernel.py:283: DeprecationWarning: `should_run_async` will not call `transform_cell` automatically in the future. Please pass the result to `transformed_cell` argument and any exception that happen during thetransform in `preprocessing_exc_tuple` in IPython 7.17 and above.\n",
      "  and should_run_async(code)\n",
      "<>:12: DeprecationWarning: invalid escape sequence \\>\n",
      "<>:12: DeprecationWarning: invalid escape sequence \\>\n",
      "<ipython-input-9-2a9d641a4093>:12: DeprecationWarning: invalid escape sequence \\>\n",
      "  special_chars_regex = '[:?,\\>$|!\\'\"]'\n"
     ]
    }
   ],
   "source": [
    "import re\n",
    "def clean_data(text):\n",
    "    \"\"\"\n",
    "    Accepts a single text document and performs several regex substitutions in order to clean the document.\n",
    "    Parameters\n",
    "    ----------\n",
    "    text: string or object\n",
    "    Returns\n",
    "    -------\n",
    "    text: string or object\n",
    "    \"\"\"\n",
    "    special_chars_regex = '[:?,\\>$|!\\'\"]'\n",
    "    white_spaces_regex = '[ ]{2,}'\n",
    "    text = re.sub('[^a-zA-Z ]', \"\", text)\n",
    "    text = re.sub(special_chars_regex, \" \", text)\n",
    "    text = re.sub(white_spaces_regex, \" \", text)\n",
    "    return text.lower()"
   ]
  },
  {
   "cell_type": "code",
   "execution_count": 10,
   "id": "b091290b",
   "metadata": {},
   "outputs": [
    {
     "name": "stderr",
     "output_type": "stream",
     "text": [
      "/Users/dylansivori/.local/share/virtualenvs/Spotify-Song-Suggester-AdyWyJ8v/lib/python3.8/site-packages/ipykernel/ipkernel.py:283: DeprecationWarning: `should_run_async` will not call `transform_cell` automatically in the future. Please pass the result to `transformed_cell` argument and any exception that happen during thetransform in `preprocessing_exc_tuple` in IPython 7.17 and above.\n",
      "  and should_run_async(code)\n"
     ]
    }
   ],
   "source": [
    "def tokenize(doc):\n",
    "# run the clean_data function on the text\n",
    "    text = clean_data(doc)\n",
    "# Instantiatie language model\n",
    "    doc = nlp(text)\n",
    "    STOP_WORDS = nlp.Defaults.stop_words.union('', 'the', 'this', '-pron-', 'wo', 've', 'nt')\n",
    "    return [token.lemma_.lower().lstrip().rstrip() for token in doc\n",
    "            if (token.text not in STOP_WORDS)\n",
    "            and (token.is_punct != True)\n",
    "            and (token.text not in '')\n",
    "            and (len(token.text)>2)]"
   ]
  },
  {
   "cell_type": "code",
   "execution_count": 11,
   "id": "a4e3c12a",
   "metadata": {},
   "outputs": [
    {
     "name": "stderr",
     "output_type": "stream",
     "text": [
      "/Users/dylansivori/.local/share/virtualenvs/Spotify-Song-Suggester-AdyWyJ8v/lib/python3.8/site-packages/ipykernel/ipkernel.py:283: DeprecationWarning: `should_run_async` will not call `transform_cell` automatically in the future. Please pass the result to `transformed_cell` argument and any exception that happen during thetransform in `preprocessing_exc_tuple` in IPython 7.17 and above.\n",
      "  and should_run_async(code)\n"
     ]
    }
   ],
   "source": [
    "%%capture\n",
    "!pip install ipywidgets\n",
    "!jupyter nbextension enable --py widgetsnbextension\n",
    "!jupyter labextension install @jupyter-widgets/jupyterlab-manager\n",
    "!pip install pandarallel"
   ]
  },
  {
   "cell_type": "code",
   "execution_count": 12,
   "id": "db939340",
   "metadata": {},
   "outputs": [
    {
     "name": "stdout",
     "output_type": "stream",
     "text": [
      "INFO: Pandarallel will run on 7 workers.\n",
      "INFO: Pandarallel will use standard multiprocessing data transfer (pipe) to transfer data between the main process and workers.\n"
     ]
    },
    {
     "name": "stderr",
     "output_type": "stream",
     "text": [
      "/Users/dylansivori/.local/share/virtualenvs/Spotify-Song-Suggester-AdyWyJ8v/lib/python3.8/site-packages/ipykernel/ipkernel.py:283: DeprecationWarning: `should_run_async` will not call `transform_cell` automatically in the future. Please pass the result to `transformed_cell` argument and any exception that happen during thetransform in `preprocessing_exc_tuple` in IPython 7.17 and above.\n",
      "  and should_run_async(code)\n"
     ]
    }
   ],
   "source": [
    "from pandarallel import pandarallel\n",
    "pandarallel.initialize(progress_bar=True, nb_workers=7)"
   ]
  },
  {
   "cell_type": "code",
   "execution_count": 13,
   "id": "67d2ff31",
   "metadata": {
    "scrolled": false
   },
   "outputs": [
    {
     "name": "stderr",
     "output_type": "stream",
     "text": [
      "/Users/dylansivori/.local/share/virtualenvs/Spotify-Song-Suggester-AdyWyJ8v/lib/python3.8/site-packages/ipykernel/ipkernel.py:283: DeprecationWarning: `should_run_async` will not call `transform_cell` automatically in the future. Please pass the result to `transformed_cell` argument and any exception that happen during thetransform in `preprocessing_exc_tuple` in IPython 7.17 and above.\n",
      "  and should_run_async(code)\n"
     ]
    },
    {
     "data": {
      "application/vnd.jupyter.widget-view+json": {
       "model_id": "77f8c83e85a341ea99e5d53ad7819a22",
       "version_major": 2,
       "version_minor": 0
      },
      "text/plain": [
       "VBox(children=(HBox(children=(IntProgress(value=0, description='0.00%', max=1826), Label(value='0 / 1826'))), …"
      ]
     },
     "metadata": {},
     "output_type": "display_data"
    }
   ],
   "source": [
    "lemmas = df_merged['Lyric'].parallel_apply(tokenize)"
   ]
  },
  {
   "cell_type": "code",
   "execution_count": 14,
   "id": "2ad475df",
   "metadata": {},
   "outputs": [
    {
     "name": "stderr",
     "output_type": "stream",
     "text": [
      "/Users/dylansivori/.local/share/virtualenvs/Spotify-Song-Suggester-AdyWyJ8v/lib/python3.8/site-packages/ipykernel/ipkernel.py:283: DeprecationWarning: `should_run_async` will not call `transform_cell` automatically in the future. Please pass the result to `transformed_cell` argument and any exception that happen during thetransform in `preprocessing_exc_tuple` in IPython 7.17 and above.\n",
      "  and should_run_async(code)\n"
     ]
    },
    {
     "data": {
      "text/plain": [
       "0        [start, pain, follow, hate, fuel, endless, que...\n",
       "1        [know, imagine, wait, line, think, stand, tire...\n",
       "2        [walk, unknown, live, win, victory, young, die...\n",
       "3        [day, old, time, see, pretty, face, thousand, ...\n",
       "4        [world, inside, secret, life, hide, darkness, ...\n",
       "                               ...                        \n",
       "14394    [verse, time, tear, fill, eye, past, shadow, s...\n",
       "14395    [man, day, leave, say, regret, bond, break, fe...\n",
       "14441    [stop, sound, good, turn, turn, know, know, st...\n",
       "15306    [brother, brother, prepare, happy, way, lord, ...\n",
       "15331    [mama, mama, mama, easy, girl, easy, girl, jor...\n",
       "Name: Lyric, Length: 12780, dtype: object"
      ]
     },
     "execution_count": 14,
     "metadata": {},
     "output_type": "execute_result"
    }
   ],
   "source": [
    "lemmas"
   ]
  },
  {
   "cell_type": "code",
   "execution_count": 15,
   "id": "327e1778",
   "metadata": {},
   "outputs": [
    {
     "name": "stderr",
     "output_type": "stream",
     "text": [
      "/Users/dylansivori/.local/share/virtualenvs/Spotify-Song-Suggester-AdyWyJ8v/lib/python3.8/site-packages/ipykernel/ipkernel.py:283: DeprecationWarning: `should_run_async` will not call `transform_cell` automatically in the future. Please pass the result to `transformed_cell` argument and any exception that happen during thetransform in `preprocessing_exc_tuple` in IPython 7.17 and above.\n",
      "  and should_run_async(code)\n"
     ]
    }
   ],
   "source": [
    "# prepare data for LDA model\n",
    "id2words = corpora.Dictionary(lemmas)\n",
    "corpus = [id2words.doc2bow(lemma) for lemma in lemmas]"
   ]
  },
  {
   "cell_type": "code",
   "execution_count": 16,
   "id": "eab7a9ce",
   "metadata": {},
   "outputs": [
    {
     "name": "stderr",
     "output_type": "stream",
     "text": [
      "/Users/dylansivori/.local/share/virtualenvs/Spotify-Song-Suggester-AdyWyJ8v/lib/python3.8/site-packages/ipykernel/ipkernel.py:283: DeprecationWarning: `should_run_async` will not call `transform_cell` automatically in the future. Please pass the result to `transformed_cell` argument and any exception that happen during thetransform in `preprocessing_exc_tuple` in IPython 7.17 and above.\n",
      "  and should_run_async(code)\n"
     ]
    }
   ],
   "source": [
    "# train LDA model to generate topics\n",
    "\n",
    "lda_multicore = gensim.models.ldamulticore.LdaMulticore(corpus=corpus,\n",
    "                                                        id2word=id2words,\n",
    "                                                        num_topics=5,\n",
    "                                                        chunksize=100,\n",
    "                                                        passes=10,\n",
    "                                                        per_word_topics=True,\n",
    "                                                        workers=6)"
   ]
  },
  {
   "cell_type": "code",
   "execution_count": 17,
   "id": "2797e2c2",
   "metadata": {},
   "outputs": [
    {
     "name": "stderr",
     "output_type": "stream",
     "text": [
      "/Users/dylansivori/.local/share/virtualenvs/Spotify-Song-Suggester-AdyWyJ8v/lib/python3.8/site-packages/ipykernel/ipkernel.py:283: DeprecationWarning: `should_run_async` will not call `transform_cell` automatically in the future. Please pass the result to `transformed_cell` argument and any exception that happen during thetransform in `preprocessing_exc_tuple` in IPython 7.17 and above.\n",
      "  and should_run_async(code)\n"
     ]
    },
    {
     "data": {
      "text/plain": [
       "[(1, 0.3917247), (3, 0.60287964)]"
      ]
     },
     "execution_count": 17,
     "metadata": {},
     "output_type": "execute_result"
    }
   ],
   "source": [
    "all_topics = lda_multicore.get_document_topics(corpus[3800], per_word_topics=True)\n",
    "# for doc_topics, word_topics, phi_values in all_topics:\n",
    "#     print('New Document \\n')\n",
    "#     print('Document topics:', doc_topics)\n",
    "#     print('Word topics:', word_topics)\n",
    "#     print('Phi values:', phi_values)\n",
    "#     print(\" \")\n",
    "#     print('-------------- \\n')\n",
    "all_topics[0]"
   ]
  },
  {
   "cell_type": "code",
   "execution_count": 18,
   "id": "2aad182b",
   "metadata": {
    "scrolled": true
   },
   "outputs": [
    {
     "name": "stderr",
     "output_type": "stream",
     "text": [
      "/Users/dylansivori/.local/share/virtualenvs/Spotify-Song-Suggester-AdyWyJ8v/lib/python3.8/site-packages/ipykernel/ipkernel.py:283: DeprecationWarning: `should_run_async` will not call `transform_cell` automatically in the future. Please pass the result to `transformed_cell` argument and any exception that happen during thetransform in `preprocessing_exc_tuple` in IPython 7.17 and above.\n",
      "  and should_run_async(code)\n"
     ]
    }
   ],
   "source": [
    "# display the print_topics from the model \n",
    "doc_topics = lda_multicore.get_document_topics(corpus, per_word_topics=True)"
   ]
  },
  {
   "cell_type": "code",
   "execution_count": 39,
   "id": "0d029dd5",
   "metadata": {
    "scrolled": true
   },
   "outputs": [
    {
     "name": "stderr",
     "output_type": "stream",
     "text": [
      "/Users/dylansivori/.local/share/virtualenvs/Spotify-Song-Suggester-AdyWyJ8v/lib/python3.8/site-packages/ipykernel/ipkernel.py:283: DeprecationWarning: `should_run_async` will not call `transform_cell` automatically in the future. Please pass the result to `transformed_cell` argument and any exception that happen during thetransform in `preprocessing_exc_tuple` in IPython 7.17 and above.\n",
      "  and should_run_async(code)\n"
     ]
    },
    {
     "data": {
      "text/plain": [
       "130"
      ]
     },
     "execution_count": 39,
     "metadata": {},
     "output_type": "execute_result"
    }
   ],
   "source": [
    "len(lemmas[0])"
   ]
  },
  {
   "cell_type": "code",
   "execution_count": 40,
   "id": "5305d6e1",
   "metadata": {
    "scrolled": false
   },
   "outputs": [
    {
     "name": "stderr",
     "output_type": "stream",
     "text": [
      "/Users/dylansivori/.local/share/virtualenvs/Spotify-Song-Suggester-AdyWyJ8v/lib/python3.8/site-packages/ipykernel/ipkernel.py:283: DeprecationWarning: `should_run_async` will not call `transform_cell` automatically in the future. Please pass the result to `transformed_cell` argument and any exception that happen during thetransform in `preprocessing_exc_tuple` in IPython 7.17 and above.\n",
      "  and should_run_async(code)\n"
     ]
    },
    {
     "data": {
      "text/html": [
       "\n",
       "<link rel=\"stylesheet\" type=\"text/css\" href=\"https://cdn.jsdelivr.net/gh/bmabey/pyLDAvis@3.3.1/pyLDAvis/js/ldavis.v1.0.0.css\">\n",
       "\n",
       "\n",
       "<div id=\"ldavis_el17811404151219344803310648867\"></div>\n",
       "<script type=\"text/javascript\">\n",
       "\n",
       "var ldavis_el17811404151219344803310648867_data = {\"mdsDat\": {\"x\": [-0.1283406626426732, -0.12910207255788703, -0.0745145689395179, 0.04030947334619607, 0.2916478307938821], \"y\": [-0.04013349606734845, -0.1279852354981793, 0.041709577968200545, 0.22055090762186685, -0.09414175402453946], \"topics\": [1, 2, 3, 4, 5], \"cluster\": [1, 1, 1, 1, 1], \"Freq\": [34.51294833977505, 24.47936397049045, 20.017331785316735, 17.16451091321575, 3.825844991202028]}, \"tinfo\": {\"Term\": [\"baby\", \"love\", \"yeah\", \"ooh\", \"wanna\", \"get\", \"know\", \"girl\", \"come\", \"fuck\", \"dance\", \"feel\", \"man\", \"shit\", \"want\", \"heart\", \"wild\", \"young\", \"boy\", \"bitch\", \"like\", \"burn\", \"rock\", \"sky\", \"nigga\", \"crazy\", \"hey\", \"eye\", \"money\", \"round\", \"loving\", \"loves\", \"honestly\", \"ohhhh\", \"carefull\", \"heartache\", \"unconditional\", \"glitter\", \"understanding\", \"ghoul\", \"hopelessly\", \"refro\", \"ahah\", \"naive\", \"greedy\", \"meant\", \"iiiohh\", \"badreally\", \"intermediate\", \"ooooo\", \"tenderly\", \"sincere\", \"viva\", \"vulnerable\", \"amo\", \"brokenhearted\", \"andante\", \"yeeeeeah\", \"las\", \"ohh\", \"love\", \"beggin\", \"darling\", \"mmmm\", \"untrue\", \"hurt\", \"everytime\", \"alright\", \"need\", \"feeling\", \"whoa\", \"darle\", \"feel\", \"want\", \"heart\", \"know\", \"miss\", \"anymore\", \"wanna\", \"lonely\", \"forever\", \"tell\", \"cause\", \"realize\", \"wrong\", \"true\", \"think\", \"try\", \"thing\", \"way\", \"hold\", \"babe\", \"ill\", \"right\", \"tonight\", \"let\", \"time\", \"stay\", \"baby\", \"girl\", \"break\", \"gon\", \"good\", \"like\", \"get\", \"find\", \"life\", \"wait\", \"look\", \"come\", \"leave\", \"away\", \"yeah\", \"night\", \"ashe\", \"forest\", \"goldeneye\", \"salvation\", \"kingdom\", \"sow\", \"madness\", \"legend\", \"betray\", \"dreamland\", \"uette\", \"heartbreaker\", \"anna\", \"savior\", \"eternal\", \"creation\", \"earthly\", \"heed\", \"shelter\", \"rot\", \"burden\", \"sally\", \"rael\", \"unto\", \"frozen\", \"dwell\", \"reign\", \"destruction\", \"yonder\", \"nite\", \"storm\", \"shall\", \"mandy\", \"demon\", \"garden\", \"lonesome\", \"roar\", \"sky\", \"darkness\", \"christmas\", \"river\", \"sea\", \"mountain\", \"echo\", \"sail\", \"silent\", \"path\", \"wing\", \"beneath\", \"angel\", \"snow\", \"shore\", \"cold\", \"rise\", \"winter\", \"grave\", \"burn\", \"bird\", \"rain\", \"die\", \"death\", \"earth\", \"shadow\", \"sun\", \"child\", \"land\", \"shine\", \"heaven\", \"wind\", \"bear\", \"eye\", \"fly\", \"fire\", \"light\", \"dead\", \"dream\", \"world\", \"god\", \"day\", \"life\", \"fall\", \"soul\", \"live\", \"lie\", \"tear\", \"hear\", \"stand\", \"away\", \"night\", \"walk\", \"time\", \"leave\", \"ill\", \"come\", \"end\", \"man\", \"hand\", \"find\", \"go\", \"like\", \"know\", \"heart\", \"hallelujah\", \"hoo\", \"rattle\", \"zero\", \"uhhuh\", \"rider\", \"sway\", \"circus\", \"steamy\", \"fighter\", \"radar\", \"bobby\", \"replay\", \"rocket\", \"dodo\", \"boring\", \"loosen\", \"lemme\", \"getcha\", \"afterglow\", \"chat\", \"handsome\", \"breathless\", \"wooh\", \"fiddle\", \"gloria\", \"worm\", \"rolling\", \"bedum\", \"bicycle\", \"bum\", \"dance\", \"gypsy\", \"trance\", \"round\", \"train\", \"bernie\", \"dancer\", \"dancing\", \"available\", \"ride\", \"imagination\", \"sensation\", \"butterfly\", \"shake\", \"yeah\", \"john\", \"magic\", \"song\", \"drive\", \"wheel\", \"sing\", \"come\", \"music\", \"lyric\", \"car\", \"town\", \"spin\", \"play\", \"home\", \"fast\", \"free\", \"old\", \"go\", \"work\", \"say\", \"like\", \"get\", \"house\", \"gun\", \"run\", \"head\", \"well\", \"people\", \"away\", \"look\", \"night\", \"gon\", \"good\", \"know\", \"let\", \"time\", \"want\", \"way\", \"turn\", \"think\", \"feel\", \"bitch\", \"nigga\", \"ass\", \"fuck\", \"boom\", \"fuckin\", \"shit\", \"wit\", \"hoe\", \"rap\", \"lil\", \"sexy\", \"motherfucker\", \"dem\", \"dick\", \"niggas\", \"nike\", \"niggaz\", \"nah\", \"eminem\", \"boogie\", \"hood\", \"dope\", \"aah\", \"pussy\", \"monkey\", \"chick\", \"hump\", \"nutbush\", \"nasty\", \"pop\", \"bass\", \"mama\", \"club\", \"hook\", \"money\", \"rock\", \"rockin\", \"rollin\", \"suck\", \"verse\", \"daddy\", \"big\", \"gettin\", \"hot\", \"boy\", \"bout\", \"get\", \"talkin\", \"party\", \"girl\", \"hey\", \"hit\", \"like\", \"man\", \"roll\", \"cuz\", \"little\", \"gon\", \"cool\", \"chorus\", \"cause\", \"wanna\", \"know\", \"right\", \"good\", \"yeah\", \"look\", \"say\", \"let\", \"come\", \"bop\", \"doo\", \"yeh\", \"ohoh\", \"rumour\", \"aaah\", \"woh\", \"ohohoh\", \"undercover\", \"dam\", \"kissin\", \"lily\", \"battlefield\", \"uuh\", \"amen\", \"womanizer\", \"shoop\", \"honky\", \"woah\", \"woahoh\", \"maria\", \"raining\", \"roxanne\", \"lea\", \"whoaoh\", \"nina\", \"manboy\", \"yah\", \"unstoppable\", \"jolene\", \"applause\", \"hmm\", \"thriller\", \"oooh\", \"bang\", \"gimme\", \"cmon\", \"annie\", \"ooo\", \"ooh\", \"wild\", \"yea\", \"salute\", \"inferno\", \"baby\", \"wonderful\", \"killer\", \"imma\", \"york\", \"naked\", \"young\", \"lady\", \"satisfaction\", \"crazy\", \"yeah\", \"man\", \"wanna\", \"shout\", \"city\", \"save\", \"boy\", \"come\", \"new\", \"burn\", \"star\", \"world\", \"hey\"], \"Freq\": [10986.0, 21368.0, 10260.0, 1999.0, 6781.0, 16255.0, 21510.0, 6483.0, 13602.0, 1994.0, 2618.0, 9954.0, 5154.0, 1695.0, 10221.0, 7111.0, 943.0, 1409.0, 3108.0, 1498.0, 17271.0, 2352.0, 1705.0, 1993.0, 1248.0, 1532.0, 3402.0, 4809.0, 1611.0, 1712.0, 87.48709508254619, 68.82761077823076, 67.69300824717156, 61.87602532277948, 57.756348005318905, 148.60940380713234, 49.411624581386555, 67.00742093002448, 55.934722564878065, 36.31541601655672, 36.94471155358315, 67.86207684033434, 32.94974057523352, 34.366170107468946, 88.82823884509598, 29.77914310005784, 28.143972869842806, 27.978729455134097, 29.313455997695197, 27.218482139275412, 26.7938443858079, 27.539929032121766, 25.12160642789531, 25.271454036139758, 23.80099194105025, 24.294717570806103, 24.26279098111095, 25.027004580643332, 24.583424985192007, 375.29733180695274, 20293.020609707186, 43.35907262782083, 299.1971764136835, 58.50022404819498, 72.23974357936689, 1320.766843672208, 274.6662425701963, 1270.7257793810707, 5599.863562196158, 1213.9198118400611, 476.66511299040286, 158.97469876117395, 7638.163453940399, 7832.57631143264, 5527.16497511758, 15800.954445766843, 1459.579238459861, 588.512472085781, 5109.387904669029, 1161.517995874309, 1303.718290175378, 5592.489771518525, 5424.301380445831, 349.17718508978516, 1466.8718506911357, 1281.0518348140342, 5218.369232703303, 3487.30512222519, 3906.0131435628077, 5468.890040890059, 2771.3055320600515, 690.5882824513101, 5220.020286473241, 4215.231367274696, 2270.686200663845, 6095.161631709584, 7064.3914465988055, 1959.2442568506374, 6370.167115767825, 3929.3289283348613, 2357.803728906144, 4453.087945189016, 3407.5319366146864, 7122.999340064593, 6774.1389423279015, 2982.9953617246665, 3343.855445499402, 2192.8895678899335, 3231.961116770913, 4573.800982044215, 2710.320788654592, 3010.5699228856947, 3348.9825465999625, 2789.649308772954, 222.14858631040056, 115.8054257998129, 100.77723831428915, 92.24046405721464, 91.06915130013486, 92.2917240572087, 155.58882526548786, 82.56849402098486, 69.30809335868564, 68.30376723146765, 65.37526776661201, 70.37161651815484, 66.41326971216228, 61.140552104963895, 60.31928248706254, 56.39689600704203, 55.260869102250176, 54.948122182082706, 130.58640780149435, 57.234862112208006, 69.80048525676096, 53.709805903788286, 54.257704810346134, 50.63640773436542, 81.06059713830743, 49.87347356297681, 58.027138064577926, 50.418165455952696, 49.51231248661802, 48.49040652918135, 400.2087686327052, 193.56855155649933, 146.81812612898378, 166.65978426590178, 161.71861616460723, 92.88508684152019, 81.20350723336726, 1874.0804991239204, 363.9845711496395, 310.6699241473334, 745.6892630442529, 807.0814416992725, 496.79573257396584, 194.74821038148988, 277.4588225348861, 280.52147263979407, 206.06775862465932, 544.9274975123569, 225.51437534905946, 864.1024738963949, 243.22603688860139, 107.06510843919662, 2024.2118314528595, 701.070052618188, 251.70496306079295, 218.30532212069346, 1865.5235428736394, 530.7180862678248, 1516.854589433599, 2136.1640891784164, 451.50911520740107, 512.3654397504284, 517.6394236275758, 1555.5866106175622, 1046.221786798874, 529.9046100845575, 956.1668263475179, 795.1052258772319, 791.5399666857948, 770.4611584573394, 2882.1305217438594, 1452.1445224258232, 1258.1413139186102, 2097.687863227021, 818.5656311444602, 2107.4296652224957, 2388.9846056041056, 1082.1555863736542, 2788.11094405697, 2822.357985030927, 1918.9046799268715, 1149.8913336255612, 1933.7990083190323, 1490.1865787881347, 1094.9046184944168, 1702.7436445427716, 1343.4570306353717, 2057.259405832728, 2025.5703171844507, 1351.7288107091151, 2478.607902897617, 1691.5875190975457, 2015.2720874538961, 2210.1290142903817, 1188.955874687245, 1465.3809857995004, 1305.8639039572186, 1415.321705615153, 1402.8260319188091, 1569.1081109215968, 1415.7447355098407, 1344.7497921700265, 145.4833712447197, 141.7885877739434, 109.04606343624535, 100.2049556088688, 98.48857951673675, 89.36634670535445, 84.56365908780407, 84.09814435275183, 92.21361339334896, 83.86466465563362, 104.58931120265365, 70.15143305474525, 65.83898305897561, 62.29336242810413, 71.96584670806666, 56.08097922523748, 57.012019370163515, 55.59280896056516, 57.23546473501714, 57.13629208446877, 51.858610490322576, 50.978560409705615, 51.3117464984501, 53.51418635713368, 46.459367586546875, 45.88486292338669, 61.04006721170908, 47.16629696940883, 44.59826938027815, 44.83653495572823, 258.57085095737517, 2412.3233893722036, 203.01342903027503, 54.88946987602056, 1511.4292536542723, 536.0531588546543, 110.3014793838566, 168.3191630181848, 147.17691033526518, 107.99666442815723, 1117.1661343492933, 117.3003620894791, 100.36997411706123, 176.6415954991499, 876.19897505929, 5326.30759823992, 206.98012155577862, 417.0209279486885, 1227.07330005789, 808.8317418467741, 248.60375583550518, 1078.2142513415033, 5799.18796016723, 838.8489415414093, 200.78065488699724, 603.5594209431425, 717.6966056754375, 268.69670202545683, 1389.1753900682702, 1568.627623384375, 629.9477506318487, 1264.984686858771, 1080.343066955901, 2597.3376886453093, 892.599657036353, 2041.1898471630632, 4722.006348363968, 4372.155041331112, 546.1801770365596, 480.6733232589943, 1460.7488445689576, 1154.8487668407327, 1207.5793109890142, 977.4355098407925, 1796.5321600978116, 1689.4118344706428, 1637.0185577512148, 1734.1434928628369, 1444.4932832327027, 2568.6173516721215, 1806.2410668689301, 1950.2057526002257, 1509.371831246455, 1385.688509422159, 1101.7765145378294, 1212.2072304280157, 1195.6407044232265, 1498.1734574437496, 1248.1405289660881, 854.6243110894458, 1991.8560978053504, 550.589948240156, 426.5877863642951, 1691.4714562323754, 337.69902752059375, 304.7942230928103, 311.899904944731, 242.38655712191095, 235.6967114122522, 222.53567813817912, 218.6780631999927, 208.444090669961, 201.09150915972964, 197.84325917655025, 194.9172480306608, 192.05439584333573, 178.51300528546375, 180.24437846031617, 175.02995043198092, 173.13465687597326, 174.8504569433613, 169.48000492927008, 164.08529011138637, 158.81738139581842, 150.27451896734374, 157.85583964693043, 147.8865611252745, 366.1956661655841, 172.52055652465262, 827.5295450273617, 363.4976130927508, 373.7492335172915, 1354.357323384292, 1420.1742550176634, 247.10462286139332, 256.90972470467085, 266.1367664680559, 681.9687835652253, 410.24900925267093, 1066.932729243914, 386.84802318002573, 680.4844076857208, 1597.5878794666978, 654.8249548918506, 4874.1451830755905, 406.1160334597734, 545.3777414544214, 2342.4396505101167, 1400.6465546277063, 722.4878123541972, 3791.862056449594, 1702.427698746531, 781.7932811452292, 468.42994346551495, 1088.5978996565054, 1433.2692368359392, 521.7901465940565, 961.3765470207195, 1325.5926710716544, 1177.8665642127075, 1681.7762936932038, 987.0436643220253, 906.8922486806582, 1030.8569179341596, 878.7503253925211, 760.1142950918467, 750.9901139473565, 745.3265311377485, 354.47074428018306, 206.9034480428898, 133.29785053379192, 135.28172800937278, 104.7149225310034, 88.45972776939708, 72.81468523259869, 68.21012976824764, 70.97959312703952, 59.07506604348, 56.4063689054133, 54.361969674022994, 50.39526476770768, 48.234511862302526, 48.10660225433053, 46.471459361981864, 45.17158545185598, 44.41285732193094, 335.9067348491839, 42.91327086673353, 39.41013083654094, 39.29341263918564, 38.37516746328295, 38.066976580544484, 37.72308417302881, 36.97131191013024, 34.4077171883461, 36.962574231253036, 33.01612213292053, 32.76699219230626, 69.71094308931481, 106.09025277260369, 47.56600325914037, 475.287772651095, 456.8060693259827, 439.2012677011892, 347.7488250692349, 82.75474706861837, 139.48647753829968, 1499.017298246792, 710.1154495799223, 275.3219981115284, 64.25524738758622, 58.34023595494233, 4152.326415375591, 108.22158265972249, 122.20568819734977, 236.0071221204308, 162.50165427637404, 148.04292846817916, 460.39580813244453, 276.34679835642856, 78.59195580837202, 270.2238726035529, 542.730814735498, 381.4093673412897, 422.3573296602181, 133.46815366219428, 195.54392143784028, 184.61927661860176, 228.94566301946494, 273.62680135900126, 179.6791583770968, 167.90519593718304, 155.73884316353232, 158.8466603513237, 145.36765358804362], \"Total\": [10986.0, 21368.0, 10260.0, 1999.0, 6781.0, 16255.0, 21510.0, 6483.0, 13602.0, 1994.0, 2618.0, 9954.0, 5154.0, 1695.0, 10221.0, 7111.0, 943.0, 1409.0, 3108.0, 1498.0, 17271.0, 2352.0, 1705.0, 1993.0, 1248.0, 1532.0, 3402.0, 4809.0, 1611.0, 1712.0, 88.385429642648, 69.60080718669526, 68.48649363410424, 62.661920376512874, 58.54605092432856, 150.75044830355873, 50.179207889230305, 68.25941694627295, 57.022263996342375, 37.096535147202, 37.74843826802894, 69.46804016708312, 33.73762547111432, 35.21125141947642, 91.0895059148521, 30.560446691242266, 28.91105532363605, 28.742217093049323, 30.11802703624453, 27.99056619217122, 27.5687444769529, 28.34557028606738, 25.88792903533382, 26.04923813644473, 24.56724612376135, 25.079739608123024, 25.053041492094174, 25.847825546371084, 25.40773814074042, 388.073591611722, 21368.26239587213, 44.97471684641814, 320.9499444346045, 60.9806824814034, 75.85793214459206, 1490.9755344328773, 298.81193651156525, 1478.8112465456097, 6986.18648174712, 1429.1285262819365, 542.7633709193511, 173.72560303307503, 9954.842353548576, 10221.813149572694, 7111.384371772172, 21510.296260808067, 1769.2420352849974, 692.0489659431057, 6781.114846446954, 1433.387087888989, 1623.258594216288, 7672.7841340650075, 7682.52727064444, 404.8608975765623, 1901.8796673762072, 1645.0966304806943, 7596.091041052942, 4937.547936967363, 5620.359507554551, 8180.167510041253, 3934.2132309120348, 855.3819689613481, 7906.89866795015, 6335.841179697955, 3196.2003021927253, 9697.794783537118, 11821.493550646697, 2769.9562146486314, 10986.465071859497, 6483.478697535965, 3549.1874009562957, 7960.13998767376, 5901.5090502960875, 17271.08359270514, 16255.373314860257, 5286.805928287445, 6933.238465595027, 3527.2333017395117, 7011.445756551498, 13602.071288998577, 5157.544834719161, 6865.832716261087, 10260.629224893151, 6672.6167788531975, 223.11853876901577, 116.69764546659057, 101.55922575118775, 92.99100240737567, 91.8164829413382, 93.06287725270022, 156.92190818412058, 83.32712402263623, 70.05442964499409, 69.04127626580895, 66.1063618883467, 71.16321155772623, 67.17364449005447, 61.88147131642686, 61.07229550379809, 57.15399570379738, 56.01844959596777, 55.70722107663106, 132.39185014924988, 58.03131189837564, 70.77616673613164, 54.476460056423726, 55.04895827413159, 51.37796440105748, 82.26411351444241, 50.61418529492802, 58.898594367178106, 51.18403982112848, 50.267704628393155, 49.239719625370654, 410.4076540277895, 197.12188770194416, 149.23329162940408, 170.4361147058278, 165.54637401854808, 94.61919215209136, 82.70037236696787, 1993.14561079514, 377.369648867915, 322.3233946147301, 788.3569580840939, 855.0639956045992, 522.8405121859977, 203.4737251443341, 293.3872768328822, 297.95063721884543, 216.41476342109732, 599.3857328169291, 239.37868515310942, 976.9129228291532, 261.3450518254217, 110.20875055842251, 2438.428594361457, 800.920675741327, 271.2525286023523, 233.85907226507635, 2352.387262988394, 609.7962422731187, 1918.994081439957, 2819.0326641864594, 516.098659439768, 593.373899248518, 603.1961656604575, 2101.608991675129, 1362.4773516361997, 645.1288474772093, 1285.3383701716973, 1039.4735650948735, 1040.8452158452146, 1012.1693412777569, 4809.951903042169, 2134.1656930086688, 1851.81652359976, 3476.0847196187196, 1108.6829703344854, 3906.2929897123, 5266.730442140552, 1741.539656328332, 6659.349781187712, 6933.238465595027, 4188.127481264583, 1958.8013017939663, 4321.344847968066, 3125.5197264243006, 1899.8172849763437, 4230.8291450181005, 2912.885235442127, 6865.832716261087, 6672.6167788531975, 3131.1786622808618, 11821.493550646697, 5157.544834719161, 7906.89866795015, 13602.071288998577, 2436.870051154689, 5154.166188623292, 3506.979459935838, 5286.805928287445, 7036.400667126006, 17271.08359270514, 21510.296260808067, 7111.384371772172, 146.22748138080703, 142.55367545255763, 109.8090405778414, 100.99536693834007, 99.28059177809676, 90.14125464177435, 85.3135665510753, 84.8481152680009, 93.06991002712212, 84.69310569368075, 105.67729584157864, 70.93542166983579, 66.59692652298057, 63.04396367776572, 72.86793645574271, 56.824010236451684, 57.77376962811413, 56.35730813529009, 58.0337145493986, 57.93595985083369, 52.60904214216545, 51.73117865960599, 52.099710409352724, 54.36568204630393, 47.20163005618281, 46.62646624726388, 62.0422956523958, 47.94289161911878, 45.33395215995857, 45.577652808253376, 267.0630060913577, 2618.4971740374112, 211.6572156926547, 55.95475152376919, 1712.541628131221, 592.870214440291, 116.27651493522316, 183.26320216718, 159.7820810811941, 115.37462580599765, 1492.099579302886, 127.78259898798471, 107.69146920231498, 202.9275032528933, 1280.5206067688903, 10260.629224893151, 250.35534249287318, 561.7591234902516, 1995.0113940501465, 1234.5037593766524, 312.92306164699323, 1773.1320555334578, 13602.071288998577, 1376.312920842102, 244.2878295551731, 956.9808121327865, 1189.8971042986982, 353.91757038204213, 2845.2275696225297, 3324.978722323272, 1047.2896032926662, 2596.0872114177496, 2181.680943963414, 7036.400667126006, 1735.2079336528896, 5507.372879556142, 17271.08359270514, 16255.373314860257, 960.9356294697925, 803.2424840184732, 3969.7339641432313, 2826.7807489395036, 3167.1424967289654, 2410.5821292019073, 6865.832716261087, 7011.445756551498, 6672.6167788531975, 7960.13998767376, 5901.5090502960875, 21510.296260808067, 9697.794783537118, 11821.493550646697, 10221.813149572694, 8180.167510041253, 3924.023163910091, 7596.091041052942, 9954.842353548576, 1498.9398863946267, 1248.9033678032092, 855.3863152491907, 1994.3622745648609, 551.3541792314325, 427.35191464265944, 1695.0319579931827, 338.4631394668712, 305.55562478728285, 312.925740394227, 243.1895588389264, 236.50408240759478, 223.29900499613618, 219.44313327409614, 209.20516486633997, 201.85425310646545, 198.6025142918683, 195.67881827138095, 192.82699260582774, 179.27391275406495, 181.02124823627355, 175.79535486694698, 173.89660901781988, 175.62023372907302, 170.2441432288418, 164.8558174806139, 159.59338814137402, 151.03402600166197, 158.66835150490851, 148.6568992963, 368.6561331912266, 173.44287349357518, 869.3075267099126, 385.51659210911225, 398.2178784424749, 1611.8409333448885, 1705.1687511439795, 256.4349285077803, 267.63974150193, 287.5059644800292, 892.5440709945093, 486.5028064567158, 1666.91028653674, 475.5983027929641, 995.8900056998589, 3108.3260015261735, 978.9632653121781, 16255.373314860257, 519.4316639942369, 790.6074721579379, 6483.478697535965, 3402.992073591654, 1300.5193962074493, 17271.08359270514, 5154.166188623292, 1525.3763704395662, 701.8688075804982, 4154.752331438747, 7960.13998767376, 885.6463601968137, 3591.098966068267, 7682.52727064444, 6781.114846446954, 21510.296260808067, 6335.841179697955, 5901.5090502960875, 10260.629224893151, 7011.445756551498, 5507.372879556142, 9697.794783537118, 13602.071288998577, 355.2395910141782, 207.66765212901095, 134.0821617391104, 136.15419646972111, 105.47984106765571, 89.22049361103306, 73.57880642567868, 68.97330637920034, 71.77790612122665, 59.8382366899694, 57.17690829897534, 55.12660148727933, 51.15502418514241, 48.99621106546958, 48.88158942411364, 47.24749717230664, 45.9406609539513, 45.189344269370515, 341.9231207290804, 43.68944434650657, 40.1762534367378, 40.071273858872196, 39.14380978685425, 38.83511091516062, 38.4876335921744, 37.7612642696017, 35.16635528349947, 37.80346009877187, 33.777844961430596, 33.52536128535058, 71.55496492274328, 109.9141947153302, 48.84544704394059, 516.7142540532994, 513.7313690230042, 495.17745399592013, 397.49111118134323, 87.84477060752477, 153.13900535969375, 1999.238472171095, 943.3650387241341, 353.40321728023025, 68.58620433691995, 62.457138728393616, 10986.465071859497, 145.59485391880096, 174.21627407395624, 433.519786221872, 262.1054464414503, 250.34328507633617, 1409.065252880002, 788.9378698333485, 98.77522415573462, 1532.1695028797676, 10260.629224893151, 5154.166188623292, 6781.114846446954, 388.3142127185086, 1194.7236302823571, 1333.904451794495, 3108.3260015261735, 13602.071288998577, 2351.4634030602315, 2352.387262988394, 1498.6059999337203, 5266.730442140552, 3402.992073591654], \"Category\": [\"Default\", \"Default\", \"Default\", \"Default\", \"Default\", \"Default\", \"Default\", \"Default\", \"Default\", \"Default\", \"Default\", \"Default\", \"Default\", \"Default\", \"Default\", \"Default\", \"Default\", \"Default\", \"Default\", \"Default\", \"Default\", \"Default\", \"Default\", \"Default\", \"Default\", \"Default\", \"Default\", \"Default\", \"Default\", \"Default\", \"Topic1\", \"Topic1\", \"Topic1\", \"Topic1\", \"Topic1\", \"Topic1\", \"Topic1\", \"Topic1\", \"Topic1\", \"Topic1\", \"Topic1\", \"Topic1\", \"Topic1\", \"Topic1\", \"Topic1\", \"Topic1\", \"Topic1\", \"Topic1\", \"Topic1\", \"Topic1\", \"Topic1\", \"Topic1\", \"Topic1\", \"Topic1\", \"Topic1\", \"Topic1\", \"Topic1\", \"Topic1\", \"Topic1\", \"Topic1\", \"Topic1\", \"Topic1\", \"Topic1\", \"Topic1\", \"Topic1\", \"Topic1\", \"Topic1\", \"Topic1\", \"Topic1\", \"Topic1\", \"Topic1\", \"Topic1\", \"Topic1\", \"Topic1\", \"Topic1\", \"Topic1\", \"Topic1\", \"Topic1\", \"Topic1\", \"Topic1\", \"Topic1\", \"Topic1\", \"Topic1\", \"Topic1\", \"Topic1\", \"Topic1\", \"Topic1\", \"Topic1\", \"Topic1\", \"Topic1\", \"Topic1\", \"Topic1\", \"Topic1\", \"Topic1\", \"Topic1\", \"Topic1\", \"Topic1\", \"Topic1\", \"Topic1\", \"Topic1\", \"Topic1\", \"Topic1\", \"Topic1\", \"Topic1\", \"Topic1\", \"Topic1\", \"Topic1\", \"Topic1\", \"Topic1\", \"Topic1\", \"Topic1\", \"Topic1\", \"Topic1\", \"Topic1\", \"Topic2\", \"Topic2\", \"Topic2\", \"Topic2\", \"Topic2\", \"Topic2\", \"Topic2\", \"Topic2\", \"Topic2\", \"Topic2\", \"Topic2\", \"Topic2\", \"Topic2\", \"Topic2\", \"Topic2\", \"Topic2\", \"Topic2\", \"Topic2\", \"Topic2\", \"Topic2\", \"Topic2\", \"Topic2\", \"Topic2\", \"Topic2\", \"Topic2\", \"Topic2\", \"Topic2\", \"Topic2\", \"Topic2\", \"Topic2\", \"Topic2\", \"Topic2\", \"Topic2\", \"Topic2\", \"Topic2\", \"Topic2\", \"Topic2\", \"Topic2\", \"Topic2\", \"Topic2\", \"Topic2\", \"Topic2\", \"Topic2\", \"Topic2\", \"Topic2\", \"Topic2\", \"Topic2\", \"Topic2\", \"Topic2\", \"Topic2\", \"Topic2\", \"Topic2\", \"Topic2\", \"Topic2\", \"Topic2\", \"Topic2\", \"Topic2\", \"Topic2\", \"Topic2\", \"Topic2\", \"Topic2\", \"Topic2\", \"Topic2\", \"Topic2\", \"Topic2\", \"Topic2\", \"Topic2\", \"Topic2\", \"Topic2\", \"Topic2\", \"Topic2\", \"Topic2\", \"Topic2\", \"Topic2\", \"Topic2\", \"Topic2\", \"Topic2\", \"Topic2\", \"Topic2\", \"Topic2\", \"Topic2\", \"Topic2\", \"Topic2\", \"Topic2\", \"Topic2\", \"Topic2\", \"Topic2\", \"Topic2\", \"Topic2\", \"Topic2\", \"Topic2\", \"Topic2\", \"Topic2\", \"Topic2\", \"Topic2\", \"Topic2\", \"Topic2\", \"Topic2\", \"Topic2\", \"Topic2\", \"Topic2\", \"Topic2\", \"Topic3\", \"Topic3\", \"Topic3\", \"Topic3\", \"Topic3\", \"Topic3\", \"Topic3\", \"Topic3\", \"Topic3\", \"Topic3\", \"Topic3\", \"Topic3\", \"Topic3\", \"Topic3\", \"Topic3\", \"Topic3\", \"Topic3\", \"Topic3\", \"Topic3\", \"Topic3\", \"Topic3\", \"Topic3\", \"Topic3\", \"Topic3\", \"Topic3\", \"Topic3\", \"Topic3\", \"Topic3\", \"Topic3\", \"Topic3\", \"Topic3\", \"Topic3\", \"Topic3\", \"Topic3\", \"Topic3\", \"Topic3\", \"Topic3\", \"Topic3\", \"Topic3\", \"Topic3\", \"Topic3\", \"Topic3\", \"Topic3\", \"Topic3\", \"Topic3\", \"Topic3\", \"Topic3\", \"Topic3\", \"Topic3\", \"Topic3\", \"Topic3\", \"Topic3\", \"Topic3\", \"Topic3\", \"Topic3\", \"Topic3\", \"Topic3\", \"Topic3\", \"Topic3\", \"Topic3\", \"Topic3\", \"Topic3\", \"Topic3\", \"Topic3\", \"Topic3\", \"Topic3\", \"Topic3\", \"Topic3\", \"Topic3\", \"Topic3\", \"Topic3\", \"Topic3\", \"Topic3\", \"Topic3\", \"Topic3\", \"Topic3\", \"Topic3\", \"Topic3\", \"Topic3\", \"Topic3\", \"Topic3\", \"Topic3\", \"Topic3\", \"Topic3\", \"Topic3\", \"Topic3\", \"Topic3\", \"Topic4\", \"Topic4\", \"Topic4\", \"Topic4\", \"Topic4\", \"Topic4\", \"Topic4\", \"Topic4\", \"Topic4\", \"Topic4\", \"Topic4\", \"Topic4\", \"Topic4\", \"Topic4\", \"Topic4\", \"Topic4\", \"Topic4\", \"Topic4\", \"Topic4\", \"Topic4\", \"Topic4\", \"Topic4\", \"Topic4\", \"Topic4\", \"Topic4\", \"Topic4\", \"Topic4\", \"Topic4\", \"Topic4\", \"Topic4\", \"Topic4\", \"Topic4\", \"Topic4\", \"Topic4\", \"Topic4\", \"Topic4\", \"Topic4\", \"Topic4\", \"Topic4\", \"Topic4\", \"Topic4\", \"Topic4\", \"Topic4\", \"Topic4\", \"Topic4\", \"Topic4\", \"Topic4\", \"Topic4\", \"Topic4\", \"Topic4\", \"Topic4\", \"Topic4\", \"Topic4\", \"Topic4\", \"Topic4\", \"Topic4\", \"Topic4\", \"Topic4\", \"Topic4\", \"Topic4\", \"Topic4\", \"Topic4\", \"Topic4\", \"Topic4\", \"Topic4\", \"Topic4\", \"Topic4\", \"Topic4\", \"Topic4\", \"Topic4\", \"Topic4\", \"Topic5\", \"Topic5\", \"Topic5\", \"Topic5\", \"Topic5\", \"Topic5\", \"Topic5\", \"Topic5\", \"Topic5\", \"Topic5\", \"Topic5\", \"Topic5\", \"Topic5\", \"Topic5\", \"Topic5\", \"Topic5\", \"Topic5\", \"Topic5\", \"Topic5\", \"Topic5\", \"Topic5\", \"Topic5\", \"Topic5\", \"Topic5\", \"Topic5\", \"Topic5\", \"Topic5\", \"Topic5\", \"Topic5\", \"Topic5\", \"Topic5\", \"Topic5\", \"Topic5\", \"Topic5\", \"Topic5\", \"Topic5\", \"Topic5\", \"Topic5\", \"Topic5\", \"Topic5\", \"Topic5\", \"Topic5\", \"Topic5\", \"Topic5\", \"Topic5\", \"Topic5\", \"Topic5\", \"Topic5\", \"Topic5\", \"Topic5\", \"Topic5\", \"Topic5\", \"Topic5\", \"Topic5\", \"Topic5\", \"Topic5\", \"Topic5\", \"Topic5\", \"Topic5\", \"Topic5\", \"Topic5\", \"Topic5\", \"Topic5\", \"Topic5\", \"Topic5\", \"Topic5\", \"Topic5\"], \"logprob\": [30.0, 29.0, 28.0, 27.0, 26.0, 25.0, 24.0, 23.0, 22.0, 21.0, 20.0, 19.0, 18.0, 17.0, 16.0, 15.0, 14.0, 13.0, 12.0, 11.0, 10.0, 9.0, 8.0, 7.0, 6.0, 5.0, 4.0, 3.0, 2.0, 1.0, -8.4803, -8.7202, -8.7368, -8.8267, -8.8956, -7.9505, -9.0516, -8.747, -8.9276, -9.3596, -9.3424, -8.7343, -9.4568, -9.4147, -8.4651, -9.558, -9.6145, -9.6204, -9.5738, -9.6479, -9.6636, -9.6362, -9.7281, -9.7221, -9.7821, -9.7615, -9.7629, -9.7318, -9.7497, -7.0241, -3.0338, -9.1823, -7.2507, -8.8828, -8.6718, -5.7658, -7.3362, -5.8045, -4.3213, -5.8502, -6.785, -7.8831, -4.0109, -3.9858, -4.3344, -3.284, -5.6659, -6.5742, -4.413, -5.8943, -5.7788, -4.3226, -4.3532, -7.0962, -5.6609, -5.7964, -4.3919, -4.7949, -4.6815, -4.345, -5.0247, -6.4143, -4.3915, -4.6053, -5.224, -4.2365, -4.089, -5.3715, -4.1924, -4.6756, -5.1863, -4.5504, -4.8181, -4.0807, -4.1309, -4.9511, -4.8369, -5.2588, -4.871, -4.5237, -5.047, -4.9419, -4.8354, -5.0181, -7.2049, -7.8564, -7.9954, -8.0839, -8.0967, -8.0833, -7.5611, -8.1947, -8.3697, -8.3843, -8.4282, -8.3545, -8.4124, -8.4951, -8.5086, -8.5759, -8.5962, -8.6019, -7.7363, -8.5611, -8.3627, -8.6247, -8.6146, -8.6836, -8.2131, -8.6988, -8.5474, -8.6879, -8.7061, -8.7269, -6.6163, -7.3427, -7.6191, -7.4923, -7.5224, -8.0769, -8.2113, -5.0724, -6.7112, -6.8696, -5.994, -5.9149, -6.4001, -7.3366, -6.9826, -6.9716, -7.2801, -6.3076, -7.1899, -5.8466, -7.1143, -7.9349, -4.9954, -6.0557, -7.08, -7.2224, -5.077, -6.3341, -5.2839, -4.9415, -6.4957, -6.3693, -6.359, -5.2587, -5.6554, -6.3356, -5.7454, -5.9298, -5.9343, -5.9613, -4.642, -5.3275, -5.4709, -4.9597, -5.9007, -4.9551, -4.8297, -5.6216, -4.6752, -4.663, -5.0488, -5.5609, -5.0411, -5.3016, -5.6099, -5.1683, -5.4053, -4.9792, -4.9947, -5.3992, -4.7928, -5.1749, -4.9998, -4.9075, -5.5275, -5.3184, -5.4337, -5.3532, -5.3621, -5.25, -5.3529, -5.4043, -7.427, -7.4527, -7.7153, -7.7998, -7.8171, -7.9143, -7.9696, -7.9751, -7.883, -7.9779, -7.757, -8.1564, -8.2199, -8.2752, -8.1309, -8.3803, -8.3638, -8.389, -8.3599, -8.3616, -8.4585, -8.4757, -8.4691, -8.4271, -8.5685, -8.5809, -8.2955, -8.5534, -8.6094, -8.604, -6.8519, -4.6187, -7.0938, -8.4017, -5.0863, -6.1228, -7.7038, -7.2812, -7.4154, -7.725, -5.3885, -7.6423, -7.7982, -7.2329, -5.6315, -3.8266, -7.0744, -6.3739, -5.2947, -5.7115, -6.8912, -5.424, -3.7416, -5.675, -7.1049, -6.0042, -5.831, -6.8135, -5.1706, -5.0491, -5.9614, -5.2642, -5.422, -4.5448, -5.6129, -4.7858, -3.9471, -4.0241, -6.1041, -6.2319, -5.1204, -5.3553, -5.3107, -5.5221, -4.9134, -4.9749, -5.0064, -4.9488, -5.1315, -4.5559, -4.9081, -4.8314, -5.0876, -5.1731, -5.4024, -5.3069, -5.3206, -4.9413, -5.1239, -5.5026, -4.6565, -5.9423, -6.1975, -4.82, -6.4312, -6.5337, -6.5106, -6.7628, -6.7908, -6.8482, -6.8657, -6.9136, -6.9495, -6.9658, -6.9807, -6.9955, -7.0686, -7.059, -7.0884, -7.0992, -7.0894, -7.1206, -7.1529, -7.1856, -7.2408, -7.1916, -7.2569, -6.3501, -7.1028, -5.5349, -6.3575, -6.3297, -5.0422, -4.9948, -6.7435, -6.7046, -6.6693, -5.7283, -6.2365, -5.2808, -6.2953, -5.7305, -4.8771, -5.7689, -3.7616, -6.2467, -5.9518, -4.4944, -5.0086, -5.6706, -4.0127, -4.8135, -5.5917, -6.1039, -5.2607, -4.9856, -5.996, -5.3849, -5.0637, -5.1818, -4.8257, -5.3586, -5.4433, -5.3152, -5.4748, -5.6198, -5.6319, -5.6395, -4.8816, -5.42, -5.8597, -5.8449, -6.101, -6.2697, -6.4643, -6.5297, -6.4899, -6.6734, -6.7197, -6.7566, -6.8323, -6.8762, -6.8788, -6.9134, -6.9418, -6.9587, -4.9354, -6.9931, -7.0782, -7.0812, -7.1048, -7.1129, -7.122, -7.1421, -7.214, -7.1423, -7.2552, -7.2628, -6.5079, -6.088, -6.8901, -4.5883, -4.628, -4.6673, -4.9008, -6.3364, -5.8143, -3.4397, -4.1868, -5.1343, -6.5894, -6.686, -2.4208, -6.0681, -5.9465, -5.2884, -5.6616, -5.7547, -4.6202, -5.1306, -6.388, -5.153, -4.4556, -4.8084, -4.7064, -5.8584, -5.4765, -5.5339, -5.3188, -5.1405, -5.5611, -5.6288, -5.7041, -5.6843, -5.773], \"loglift\": [30.0, 29.0, 28.0, 27.0, 26.0, 25.0, 24.0, 23.0, 22.0, 21.0, 20.0, 19.0, 18.0, 17.0, 16.0, 15.0, 14.0, 13.0, 12.0, 11.0, 10.0, 9.0, 8.0, 7.0, 6.0, 5.0, 4.0, 3.0, 2.0, 1.0, 1.0536, 1.0527, 1.0522, 1.0512, 1.0503, 1.0495, 1.0484, 1.0453, 1.0446, 1.0426, 1.0423, 1.0404, 1.0402, 1.0395, 1.0387, 1.0379, 1.0369, 1.0369, 1.0368, 1.0359, 1.0353, 1.035, 1.0338, 1.0335, 1.0321, 1.032, 1.0318, 1.0316, 1.0309, 1.0304, 1.0122, 1.0273, 0.9937, 1.0223, 1.015, 0.9426, 0.9796, 0.9122, 0.8426, 0.9006, 0.934, 0.9751, 0.7989, 0.7976, 0.8118, 0.7554, 0.8714, 0.9018, 0.7808, 0.8535, 0.8446, 0.7476, 0.7158, 0.9159, 0.8041, 0.8137, 0.6884, 0.7161, 0.7, 0.6612, 0.7134, 0.8498, 0.6486, 0.6563, 0.722, 0.5994, 0.549, 0.7176, 0.5188, 0.563, 0.6548, 0.483, 0.5146, 0.1781, 0.1885, 0.4915, 0.3346, 0.5885, 0.2894, -0.026, 0.4204, 0.2394, -0.0558, 0.1917, 1.403, 1.3997, 1.3996, 1.3992, 1.3992, 1.399, 1.3988, 1.3982, 1.3966, 1.3966, 1.3962, 1.3962, 1.396, 1.3953, 1.3949, 1.394, 1.3937, 1.3936, 1.3936, 1.3935, 1.3935, 1.3932, 1.3929, 1.3928, 1.3926, 1.3926, 1.3924, 1.3923, 1.3922, 1.392, 1.3822, 1.3891, 1.391, 1.3849, 1.3839, 1.3888, 1.3891, 1.3457, 1.3712, 1.3705, 1.3517, 1.3496, 1.3562, 1.3635, 1.3515, 1.3471, 1.3583, 1.3121, 1.3477, 1.2846, 1.3355, 1.3784, 1.2212, 1.2742, 1.3325, 1.3385, 1.1755, 1.2684, 1.1722, 1.13, 1.2736, 1.2606, 1.2544, 1.1065, 1.1432, 1.2106, 1.1115, 1.1393, 1.1335, 1.1345, 0.8952, 1.0223, 1.0208, 0.9023, 1.104, 0.7902, 0.6168, 0.9315, 0.5367, 0.5086, 0.6268, 0.8747, 0.6033, 0.6666, 0.8562, 0.4972, 0.6334, 0.2022, 0.2152, 0.5673, -0.1549, 0.2925, 0.0404, -0.4098, 0.6897, 0.1496, 0.4194, 0.0895, -0.2053, -0.9912, -1.3135, -0.2581, 1.6035, 1.6032, 1.6016, 1.6007, 1.6006, 1.5999, 1.5997, 1.5997, 1.5993, 1.5987, 1.5982, 1.5975, 1.5971, 1.5966, 1.5961, 1.5954, 1.5953, 1.5949, 1.5947, 1.5947, 1.5942, 1.5939, 1.5933, 1.5928, 1.5927, 1.5925, 1.5923, 1.5922, 1.5922, 1.5922, 1.5763, 1.5266, 1.5669, 1.5893, 1.4836, 1.5078, 1.5558, 1.5235, 1.5264, 1.5425, 1.3192, 1.523, 1.5382, 1.4698, 1.2291, 0.9529, 1.4183, 1.3106, 1.1226, 1.1857, 1.3785, 1.1111, 0.7561, 1.1134, 1.4124, 1.1476, 1.103, 1.3331, 0.8916, 0.8573, 1.1002, 0.8896, 0.9058, 0.612, 0.9438, 0.616, 0.3118, 0.2954, 1.0436, 1.0951, 0.6088, 0.7134, 0.6444, 0.7059, 0.2679, 0.1854, 0.2034, 0.0846, 0.2011, -0.5166, -0.0721, -0.1934, -0.3043, -0.1669, 0.3384, -0.2266, -0.5108, 1.7618, 1.7617, 1.7614, 1.7611, 1.7609, 1.7605, 1.7602, 1.7601, 1.7598, 1.759, 1.759, 1.7589, 1.7589, 1.7588, 1.7587, 1.7585, 1.7585, 1.7584, 1.7583, 1.7581, 1.758, 1.758, 1.7579, 1.7579, 1.7578, 1.7576, 1.7575, 1.7573, 1.7572, 1.7571, 1.7556, 1.757, 1.7131, 1.7035, 1.6989, 1.5883, 1.5794, 1.7253, 1.7214, 1.6851, 1.4932, 1.5918, 1.3161, 1.5558, 1.3815, 1.0967, 1.3602, 0.5578, 1.5162, 1.391, 0.7443, 0.8746, 1.1745, 0.2461, 0.6546, 1.0939, 1.358, 0.423, 0.0478, 1.2333, 0.4445, 0.0052, 0.0119, -0.7864, -0.0969, -0.1106, -0.5356, -0.3145, -0.218, -0.7959, -1.1418, 3.2612, 3.2597, 3.2575, 3.257, 3.2561, 3.2548, 3.253, 3.2523, 3.2522, 3.2506, 3.2498, 3.2494, 3.2484, 3.2477, 3.2474, 3.2468, 3.2465, 3.2461, 3.2456, 3.2455, 3.2441, 3.2438, 3.2436, 3.2434, 3.2433, 3.2422, 3.2416, 3.2409, 3.2406, 3.2405, 3.2373, 3.228, 3.2368, 3.1798, 3.1459, 3.1434, 3.1297, 3.2037, 3.17, 2.9754, 2.9794, 3.0137, 3.1982, 3.1952, 2.2904, 2.9667, 2.9088, 2.6553, 2.7853, 2.7381, 2.1448, 2.2144, 3.0348, 1.5282, 0.3239, 0.6597, 0.4873, 2.1954, 1.4535, 1.2858, 0.655, -0.6428, 0.6918, 0.6236, 0.9993, -0.2378, 0.1102]}, \"token.table\": {\"Topic\": [5, 4, 3, 1, 1, 2, 3, 4, 5, 5, 1, 1, 1, 2, 3, 5, 2, 3, 5, 1, 2, 3, 5, 1, 5, 2, 4, 3, 4, 1, 2, 3, 4, 5, 1, 3, 4, 5, 1, 3, 4, 5, 1, 4, 5, 4, 5, 1, 2, 3, 4, 5, 3, 1, 4, 2, 3, 5, 2, 3, 4, 2, 3, 1, 2, 3, 4, 5, 2, 3, 4, 4, 3, 4, 4, 5, 3, 1, 3, 4, 5, 1, 2, 3, 4, 5, 1, 2, 3, 4, 5, 3, 1, 3, 4, 2, 1, 2, 3, 4, 5, 1, 2, 3, 1, 2, 3, 4, 5, 1, 1, 2, 3, 4, 5, 3, 4, 1, 2, 3, 4, 5, 1, 2, 3, 4, 5, 2, 3, 4, 3, 1, 2, 3, 4, 5, 3, 4, 1, 3, 4, 5, 1, 2, 3, 4, 5, 1, 2, 3, 4, 5, 1, 2, 3, 4, 5, 1, 2, 3, 4, 5, 2, 1, 2, 3, 4, 1, 2, 3, 4, 5, 5, 1, 2, 3, 4, 5, 2, 3, 4, 2, 3, 4, 5, 1, 2, 3, 1, 2, 1, 2, 3, 5, 1, 2, 3, 4, 5, 1, 2, 3, 4, 5, 1, 2, 3, 4, 5, 4, 2, 3, 4, 2, 4, 1, 2, 3, 4, 5, 3, 5, 4, 1, 2, 3, 4, 5, 2, 1, 2, 3, 4, 5, 2, 1, 2, 3, 5, 2, 2, 3, 4, 1, 2, 3, 4, 2, 1, 4, 1, 2, 3, 4, 5, 1, 2, 3, 4, 5, 1, 2, 3, 4, 5, 1, 2, 3, 4, 5, 1, 2, 3, 4, 3, 3, 1, 2, 3, 4, 5, 1, 2, 3, 4, 5, 1, 2, 3, 4, 2, 1, 2, 3, 5, 1, 2, 3, 4, 5, 2, 3, 1, 2, 4, 4, 2, 3, 1, 2, 3, 4, 5, 3, 1, 3, 4, 5, 1, 4, 5, 1, 2, 3, 4, 5, 1, 3, 1, 2, 3, 4, 5, 1, 2, 3, 4, 5, 2, 1, 2, 3, 4, 5, 1, 2, 3, 4, 5, 2, 3, 4, 5, 1, 4, 1, 2, 3, 4, 5, 2, 3, 3, 1, 2, 3, 4, 5, 3, 1, 2, 3, 4, 5, 1, 2, 3, 4, 5, 1, 2, 3, 5, 1, 5, 2, 1, 2, 3, 4, 5, 2, 1, 2, 3, 4, 5, 1, 2, 3, 4, 5, 1, 5, 4, 1, 2, 3, 4, 5, 1, 2, 3, 4, 5, 1, 5, 3, 4, 1, 3, 4, 5, 1, 1, 2, 3, 4, 5, 1, 2, 3, 4, 4, 1, 2, 3, 4, 1, 1, 2, 3, 4, 5, 1, 3, 5, 1, 3, 4, 5, 4, 5, 1, 2, 3, 4, 5, 5, 2, 3, 4, 5, 2, 5, 1, 2, 3, 4, 5, 1, 2, 3, 4, 5, 2, 3, 4, 5, 1, 5, 1, 2, 3, 4, 5, 2, 3, 1, 2, 3, 4, 5, 1, 2, 3, 4, 5, 1, 2, 3, 4, 5, 1, 2, 3, 4, 5, 1, 2, 3, 4, 5, 4, 5, 1, 2, 3, 4, 5, 1, 2, 3, 4, 5, 1, 2, 3, 2, 3, 1, 2, 3, 4, 5, 3, 1, 2, 3, 4, 5, 1, 1, 2, 3, 4, 1, 2, 1, 2, 3, 5, 1, 4, 5, 1, 2, 3, 4, 5, 5, 2, 5, 5, 1, 1, 2, 3, 4, 5, 1, 2, 3, 1, 2, 3, 4, 5, 4, 4, 1, 2, 3, 5, 1, 2, 3, 4, 5, 4, 1, 1, 2, 3, 4, 5, 4, 1, 2, 3, 4, 5, 1, 2, 3, 4, 5, 4, 4, 4, 1, 2, 3, 4, 5, 4, 5, 2, 4, 1, 3, 4, 5, 1, 5, 5, 1, 2, 3, 4, 5, 1, 3, 4, 5, 1, 3, 5, 1, 5, 1, 1, 2, 3, 4, 2, 3, 1, 2, 3, 4, 5, 1, 2, 3, 4, 5, 3, 4, 4, 3, 4, 2, 1, 2, 3, 5, 5, 4, 3, 1, 2, 3, 4, 1, 2, 2, 3, 1, 2, 3, 4, 5, 3, 1, 2, 3, 4, 5, 1, 2, 3, 4, 2, 3, 5, 2, 3, 1, 2, 3, 4, 3, 4, 5, 1, 2, 3, 4, 2, 4, 3, 2, 1, 2, 3, 4, 5, 5, 5, 1, 2, 3, 4, 5, 2, 3, 5, 2, 4, 5, 2, 2, 3, 5, 1, 2, 3, 4, 5, 2, 1, 2, 3, 4, 5, 2, 3, 5, 2, 3, 4, 1, 2, 3, 1, 2, 3, 4, 5, 2, 3, 1, 2, 3, 1, 2, 3, 4, 5, 3, 4, 5, 2, 5, 1, 2, 3, 4, 5, 1, 2, 3, 1, 1, 2, 3, 4, 5, 1, 2, 3, 4, 5, 1, 2, 3, 4, 1, 2, 3, 4, 5, 1, 2, 3, 4, 5, 2, 1, 2, 3, 4, 1, 2, 3, 4, 5, 1, 2, 3, 4, 5, 1, 2, 3, 4, 5, 3, 1, 2, 3, 2, 3, 4, 5, 1, 2, 3, 5, 3, 1, 3, 4, 5, 1, 2, 3, 5, 1, 2, 3, 4, 5, 1, 1, 2, 3, 4, 5, 1, 2, 3, 4, 5, 1, 5, 1, 2, 3, 4, 5, 1, 2, 3, 4, 5, 1, 2, 3, 4, 5, 2, 3, 4, 5, 3, 1, 2, 3, 4, 5, 1, 2, 3, 4, 5, 1, 2, 3, 4, 5, 2, 3, 1, 5, 1, 5, 2, 1, 2, 5, 1, 3, 4, 1, 1, 1, 2, 3, 4, 5, 1, 2, 3, 4, 5, 1, 2, 3, 4, 5, 1, 2, 3, 4, 5, 1, 2, 3, 4, 5, 1, 2, 3, 4, 5, 2, 3, 4, 1, 3, 4, 5, 5, 1, 2, 3, 4, 5, 1, 2, 3, 5, 2, 3, 5, 2, 3, 4, 4, 4, 5, 5, 5, 5, 1, 5, 3, 1, 2, 3, 4, 5, 1, 2, 3, 4, 5, 3, 1, 2, 3, 4, 5, 5, 4, 5, 1, 2, 3, 4, 5, 1, 5, 2, 3, 4, 5, 1, 2, 3, 4, 5, 3], \"Freq\": [0.9863204790554742, 0.996468324202154, 0.9838449237184732, 0.9781364141425465, 0.8594741235360219, 0.04057312935653919, 0.042601785824366155, 0.054773724631327916, 0.003381094113044933, 0.9819647962658361, 0.9769104717352625, 0.9579675189367137, 0.08189061494684594, 0.8844186414259361, 0.020472653736711484, 0.01228359224202689, 0.9825281998771372, 0.05691858451471329, 0.9448485029442406, 0.8510958457936956, 0.09970392760571306, 0.030344673619130062, 0.018784797954699565, 0.013975270633976043, 0.978268944378323, 0.9949867959193935, 0.9995483733579743, 0.9360810424781089, 0.06067191941987742, 0.43854840693521796, 0.2995994928813495, 0.2617308160951799, 0.00014564875686988308, 0.00014564875686988308, 0.8078262402924512, 0.04325552950914717, 0.005845341825560429, 0.14379540890878653, 0.5798043281743084, 0.01702094338596478, 0.025212841272257994, 0.37791955582099346, 0.9741767626816509, 0.10900638617123729, 0.8895699728617043, 0.9974465742831943, 0.977421099812951, 0.05335075643748575, 0.7607422677197042, 0.07805018071409953, 0.04939884855322755, 0.057302664321743954, 0.9926335087931395, 0.9560927342097227, 0.02223471474906332, 0.9441107918837792, 0.050129776560200665, 0.004177481380016722, 0.008600188959542631, 0.9460207855496894, 0.04300094479771315, 0.9849484229571566, 0.9873259640928949, 0.05939131865679921, 0.08518754797237867, 0.19437158833134288, 0.6401064344121693, 0.02039701852859771, 0.8707826699958131, 0.08199460169452101, 0.04755686898282219, 0.9993729659186751, 0.9868130526637362, 0.9943584068377399, 0.9993576193946219, 0.9965105493713714, 0.9854989073628757, 0.24004986532876868, 0.05005295064301985, 0.6690751565546531, 0.04085955154532233, 0.2564081115071832, 0.011581796755656957, 0.14445074286916595, 0.5141030893205505, 0.0736730960290401, 0.6643774288629163, 0.1473576740014017, 0.13580573397452317, 0.04564425083791028, 0.006762111235245967, 0.9788921972749525, 0.9569477345062503, 0.9698085998155825, 0.0299554779865817, 0.9890335013617599, 0.04761120830832886, 0.7932367384226933, 0.06929131209158575, 0.018704403263986334, 0.07141681246249328, 0.06406228722875024, 0.06406228722875024, 0.8722326799606764, 0.0282137318300313, 0.016719248491870398, 0.6311516305681075, 0.3124409561918281, 0.0125394363689028, 0.9906731382269602, 0.7060176695663084, 0.0382686568680853, 0.07927078922674813, 0.1725994524050378, 0.003774799486988006, 0.9884232421392575, 0.9962818751560787, 0.01908288601551915, 0.7677191835474242, 0.10275400162202618, 0.027890371868835678, 0.08220320129762095, 0.5992594524222005, 0.025061965947025113, 0.10748798728390771, 0.2676061030565681, 0.00027846628830027905, 0.9648694609081515, 0.006204948301660138, 0.027922267357470623, 0.9900043122310727, 0.0008370136612796913, 0.3691230246243439, 0.2519411120451871, 0.21427549728760098, 0.1640546776108195, 0.0544723636539524, 0.9415937145897487, 0.010063118111275504, 0.010063118111275504, 0.10566274016839279, 0.8754912756809689, 0.09801394248437532, 0.8300427597839986, 0.035268615287264764, 0.03567871546502365, 0.0008202003555177851, 0.3362723149157051, 0.16247525491117365, 0.42633212815832394, 0.05477107009449066, 0.020143990880389855, 0.17840077834779142, 0.07113448756905608, 0.15356016364113692, 0.5894000398578931, 0.007903831952117342, 0.4868912992967594, 0.00195800790601914, 0.1592513096895567, 0.1755680422397162, 0.17622071154172259, 0.9798090109083886, 0.33054610419254404, 0.0014247676904851035, 0.0014247676904851035, 0.6667912791470284, 0.08221946403830006, 0.02672132581244752, 0.04316521862010753, 0.8427495063925756, 0.004110973201915003, 0.9859916211382962, 0.024441500504397952, 0.004964679789955834, 0.9211390502594978, 0.04277262588269642, 0.006492273571480706, 0.03273979680070504, 0.916714310419741, 0.04365306240094005, 0.012517048134976347, 0.9200030379207615, 0.006258524067488174, 0.056326716607393565, 0.007949764929426121, 0.9645714781037026, 0.026499216431420402, 0.9152364258579003, 0.08058685510698493, 0.9316094462229236, 0.04673625984395938, 0.012463002625055834, 0.009347251968791876, 0.3890770248049485, 0.4186594925342325, 0.15842387540301842, 0.03168477508060368, 0.0022524721621282238, 0.006313797710709065, 0.7387143321529606, 0.08388331244227758, 0.16776662488455515, 0.0036078844061194658, 0.005812842070267225, 0.8758015385869284, 0.07556694691347392, 0.042627508515292976, 0.0019376140234224082, 0.997980646432246, 0.9798392804731643, 0.011734602161355261, 0.0058673010806776305, 0.9768670111764075, 0.9942393159025976, 0.18091312189430772, 0.7577067222867476, 0.02554067603213756, 0.033699503097959285, 0.0021283896693447967, 0.9880889112830873, 0.9967849969787487, 0.9948440109161185, 0.34764417404850556, 0.5393860638587638, 0.11161477163854819, 0.0005119943653144412, 0.0007679915479716618, 0.9849180617432385, 0.1903598901299907, 0.050222609310891154, 0.6553240472985636, 0.07128370353803906, 0.03240168342638139, 0.9878653525419964, 0.010111668220659413, 0.8628623548296033, 0.013482224294212551, 0.11291362846403012, 0.981819389802586, 0.9583546959769706, 0.03931711573238854, 0.998472099203632, 0.4312909502507091, 0.48792097035974613, 0.07878959319518188, 0.0016414498582329557, 0.9824421942068413, 0.9203112941552667, 0.07697149005662231, 0.33493058402124243, 0.5991743905333462, 0.05093606026393817, 0.01288994178107823, 0.0022869251547074283, 0.49879092968040156, 0.45819999715495, 0.04226232386473484, 0.00023877019132618552, 0.00047754038265237104, 0.18237553337634427, 0.09548457244834778, 0.6015528064245911, 0.09166518955041388, 0.028645371734504335, 0.7672647871994982, 0.10738492504795281, 0.1201425354137994, 0.004721320371612518, 0.0006027217495675556, 0.8494687340391831, 0.05457871602558178, 0.09236398096636916, 0.002798908514132399, 0.9745426152708595, 0.9918162678295493, 0.5642348216414071, 0.26764742628983945, 0.16664125976067035, 0.0011349007475187538, 0.00018915012458645898, 0.06534124653169592, 0.6793329598088715, 0.1944037086893432, 0.035640679926379586, 0.02484047388808274, 0.07731358466707851, 0.680359545070291, 0.18836400627979127, 0.05388522567705472, 0.9940217691299496, 0.8033224063289641, 0.19467015368094528, 0.0018481343703887212, 0.0006160447901295737, 0.2399765297791261, 0.2584658932292032, 0.4872717659239077, 0.008474291581285352, 0.005777926078149104, 0.9846334755163868, 0.01215596883353564, 0.0005014134155832769, 0.0005014134155832769, 0.9988155238418877, 0.9991765226020956, 0.978577760826397, 0.01812181038567402, 0.4167237422844899, 0.009781381019077929, 0.26895721896483465, 0.2998393150124895, 0.004675377090880017, 0.9821876893901268, 0.06518105682453375, 0.10933596628631467, 0.8137119029385342, 0.010513073681376411, 0.970441035992961, 0.11107129283889641, 0.886550864659555, 0.6060018368677929, 0.0003084763740737047, 0.022827251681454146, 0.3612258340403082, 0.009408529409247994, 0.9815495501922579, 0.9865641491263422, 0.3777499499734501, 0.1993917155051733, 0.3690807449514861, 0.05244158447712683, 0.0014211811511416483, 0.06718193270813583, 0.6212893264119912, 0.05684625075303801, 0.25437261700601854, 0.0005742045530609899, 0.9944935996995703, 0.5594122725097109, 0.03932091652718157, 0.21783536504195794, 0.18002195969153734, 0.003391900147712148, 0.577479416019707, 0.02084212681057041, 0.24468317979238757, 0.15368950420477528, 0.0033889637090358388, 0.9321853451676217, 0.04276079564989091, 0.021380397824945455, 0.004276079564989091, 0.97706095895607, 0.021956426043956628, 0.0024899081408074567, 0.08092201457624235, 0.5988229078641933, 0.31621833388254705, 0.0024899081408074567, 0.03779696323519969, 0.9590979420931921, 0.9916056724138576, 0.2962663488251537, 0.3724002421228592, 0.23125313657093324, 0.07128641694541715, 0.02851456677816686, 0.9858658032051196, 0.2136706216874432, 0.24869279312296783, 0.4085920000811207, 0.12664583205977592, 0.002476315152006792, 0.33799521346397504, 0.4025215723980067, 0.12857999728979191, 0.10990753444807581, 0.021272426022208222, 0.777204509144351, 0.18913335711944132, 0.024045950979497743, 0.009562132553250564, 0.9883884371605056, 0.013266958888060478, 0.9836543133416252, 0.21164559387320298, 0.7648102142236198, 0.010582279693660148, 0.004810127133481885, 0.007696203413571017, 0.9873046785863147, 0.2953283399626855, 0.00029385904473899055, 0.25007404707288095, 0.41169652167932574, 0.04260956148715363, 0.1084182215283998, 0.03229478939143824, 0.2944977223076392, 0.5551628081099621, 0.009227082683268068, 0.02729401791797486, 0.9643886331017784, 0.9981815920172648, 0.7043339639619948, 0.22189951300570965, 0.05007354417196426, 0.02236787759965916, 0.0010167217090754164, 0.26075354833976155, 0.22887364508253583, 0.4718827189678038, 0.034887441300360256, 0.003609045651761406, 0.9928965025322603, 0.9736808690499928, 0.9961160212053467, 0.995475677570952, 0.03766782159221122, 0.017578316743031903, 0.9391843516991332, 0.0050223762122948296, 0.9801730004638939, 0.055226982583632726, 0.06426412518822718, 0.1235076155961241, 0.6828063301249137, 0.07330126779282162, 0.005203262161024052, 0.14465068807646864, 0.5681962279838264, 0.2820168091275036, 0.9931536884168698, 0.8859971002156444, 0.06908228714777545, 0.018779650875123424, 0.026157370861779054, 0.968487648982802, 0.6601829894644743, 0.25484075168025205, 0.02187962781175365, 0.0610858973010232, 0.0020235493929945574, 0.04695475007957989, 0.9156176265518078, 0.03130316671971992, 0.006920099371115264, 0.0046133995807435095, 0.44519305954174865, 0.5443811505277341, 0.048032940046229995, 0.9286368408937798, 0.9628784769035807, 0.06790348402684451, 0.8268247760915772, 0.10385238733517395, 0.003994322589814383, 0.984329437022946, 0.08035988643665336, 0.02295996755332953, 0.19515972420330102, 0.7002790103765507, 0.9911074469944591, 0.9794163704546363, 0.7345784459877268, 0.065828939910045, 0.1194311769978147, 0.07819511082535006, 0.0019990426667598413, 0.021547957893808544, 0.03675828111296752, 0.20153678265385638, 0.39039829595841363, 0.34983743404065637, 0.8215413123635329, 0.10540530045418912, 0.04495226048781595, 0.027901403061403006, 0.9839522062734649, 0.978495982231517, 0.525443808409969, 0.32806307152386255, 0.12719230196197034, 0.012602895773670842, 0.006786174647361223, 0.9960742192116535, 0.9936599502866187, 0.6284933983493662, 0.10620971292860497, 0.18622790441656364, 0.07744028583435178, 0.00154674339216415, 0.5077555539268924, 0.47672071540710126, 0.01151808439909775, 0.0019196807331829581, 0.0022396275220467844, 0.4823142917402899, 0.4070248000272423, 0.08538578370521879, 0.0144232742745302, 0.010817455705897651, 0.14959359220020307, 0.6035526085308194, 0.2039651093652769, 0.02301439880003124, 0.020137598950027338, 0.4124234569166564, 0.09084548700017323, 0.27340496470033016, 0.21955773531208214, 0.0037635160325119564, 0.9951085118760618, 0.9795633785344214, 0.4881157378874916, 0.055117605510964285, 0.17473965764611385, 0.26210948646917076, 0.019977123394803648, 0.45471955354915966, 0.4475458608468574, 0.06178632101660338, 0.02499221973705305, 0.011107653216468023, 0.8106672718193154, 0.1883650287359855, 0.0006976482545777241, 0.9828872756650822, 0.010568680383495507, 0.460960565369848, 0.16786837420801703, 0.24089183010819099, 0.12536644089111892, 0.004849213868370926, 0.9866069042561212, 0.9496794649957196, 0.04151016042237241, 0.003275886391844497, 0.0017315399499749484, 0.0037906685391343466, 0.9913678129467137, 0.9843251353956252, 0.07368357250042475, 0.8227998929214096, 0.10233829513947881, 0.00637259648172691, 0.994125051149398, 0.21361468818598084, 0.023141591220147927, 0.7423110414462835, 0.019581346417048246, 0.041412272290164094, 0.9524822626737742, 0.005751704484745013, 0.15230397532247172, 0.28423608133429434, 0.15909459842602142, 0.3302183006354737, 0.07392078292721238, 0.9668332053721035, 0.9850348966707101, 0.013401835328853199, 0.9707226698330657, 0.98166104386809, 0.8252121365434417, 0.028260689607652115, 0.08986899295233372, 0.05595616542315118, 0.0005652137921530422, 0.967519509444529, 0.016398635753297103, 0.016398635753297103, 0.045289828847137274, 0.01985307565901908, 0.08747761462255281, 0.8400332638222447, 0.006824494757787809, 0.9948086910508055, 0.9986609658375265, 0.009563145707846903, 0.9505766833599821, 0.03825258283138761, 0.0019126291415693805, 0.09881473750663325, 0.1525815799734778, 0.6095997409416566, 0.13659684302387537, 0.0029063158090186247, 0.9957112197070964, 0.9656004438738455, 0.0039945149704937125, 0.24765992817061017, 0.007989029940987425, 0.14779705390826736, 0.5911882156330694, 0.9955811045473868, 0.8015818092790934, 0.06369712591592795, 0.04523211638074884, 0.08617004449750254, 0.0032922110023962765, 0.26876880123990243, 0.24282750871516504, 0.20370293638277417, 0.20795560728846885, 0.07654807630250386, 0.9992766711768916, 0.9957679707347317, 0.9965309568129161, 0.4181268147815779, 0.3036290060026799, 0.24533103792023048, 0.021430872585579082, 0.011539700623004122, 0.9969662302916124, 0.9798400746286843, 0.974822772452752, 0.9957877453281044, 0.9663115659135021, 0.0025768308424360055, 0.01803781589705204, 0.012884154212180027, 0.9894366407455176, 0.9915228725985116, 0.9858886512725762, 0.1200908871322083, 0.24705720673381784, 0.4950311377968892, 0.1292581304247433, 0.008250518963281486, 0.22708646633183968, 0.008503237726082103, 0.014505523179787117, 0.7497854912586513, 0.0457101049047456, 0.0457101049047456, 0.9076720831085198, 0.0793475304355951, 0.919270169680675, 0.9646107125747148, 0.1252201673856973, 0.001264850175613104, 0.1834032754639001, 0.6893433457091417, 0.9518759106058194, 0.04620756847601065, 0.22899033113746492, 0.22650130579901423, 0.4052962926110566, 0.1252809420353522, 0.014104476917887332, 0.24778334342287103, 0.07697099604199824, 0.4881859064033587, 0.17889605929395938, 0.008083711913086574, 0.005425109797271634, 0.9927950929007091, 0.9926920056969629, 0.9935909048752158, 0.009462770522621103, 0.9809449932020873, 0.1250655238185576, 0.7905183318031328, 0.08025037778357445, 0.00364774444470793, 0.9732657897863408, 0.9970416610884719, 0.9926322953594345, 0.8620244683768242, 0.0987993660030744, 0.02963980980092232, 0.00740995245023058, 0.978867401994468, 0.014395108852859823, 0.984743364814851, 0.9910367256546804, 0.010052948347460865, 0.12532675606501212, 0.7486095536075857, 0.11393341460455647, 0.002010589669492173, 0.9873392638441771, 0.6652628878239872, 0.05887142518584751, 0.10921990946007099, 0.1557804199957949, 0.010890424498186268, 0.07491378586832508, 0.875242731561598, 0.04619683461880047, 0.003745689293416254, 0.9462718535686778, 0.044396132540085426, 0.008879226508017084, 0.9794393626255662, 0.012091843983031682, 0.0011729044404890842, 0.0011729044404890842, 0.1642066216684718, 0.8327621527472499, 0.983440703647669, 0.9632073190548455, 0.035096622961512586, 0.0032778795429741414, 0.045234737693043155, 0.4385802828499401, 0.5126603605211557, 0.037363658864271794, 0.9602460328117852, 0.9803330256629166, 0.9822283545789612, 0.022773169048484983, 0.029196370574980746, 0.8823143187759181, 0.06189630561895918, 0.00350356446899769, 0.9707792932501328, 0.9954508741879129, 0.28742480234346296, 0.27860809061513586, 0.3680347381453106, 0.05441170666624715, 0.011587678271515597, 0.9441445552452615, 0.051126961475375175, 0.003408464098358345, 0.9912538359517077, 0.0583207663796435, 0.933132262074296, 0.9893430290918439, 0.010123996260675078, 0.1923559289528265, 0.7997957045933313, 0.3313580664682389, 0.5075326040701306, 0.022490366502369154, 0.0007496788834123052, 0.13869059343127646, 0.9857554887161697, 0.4058196255961747, 0.0735377845040048, 0.3705941189448736, 0.13799683018035472, 0.011802360475951389, 0.9437890077799217, 0.046780124301359194, 0.008186521752737859, 0.06500050609254317, 0.9285786584649025, 0.9978686101209617, 0.10610147020733211, 0.8587587744905943, 0.03647238038377042, 0.044513145433736405, 0.02108517415282251, 0.6840967614026858, 0.16633859609448867, 0.08355976423525957, 0.9841626531769796, 0.015219010100674942, 0.007553335034389697, 0.9894868895050504, 0.007553335034389697, 0.12603685049747626, 0.7437730189851067, 0.12292482949753857, 0.004668031499906528, 0.002334015749953264, 0.0017698781346587838, 0.9976213085693344, 0.9795244357739177, 0.9708847932476875, 0.018147379313040887, 0.1030093637829225, 0.25752340945730623, 0.14163787520151844, 0.15193881157981068, 0.34250613457821727, 0.04027512782658012, 0.9431092432724179, 0.01678130326107505, 0.9878086670128757, 0.11505065252380502, 0.24814846622781475, 0.6079637422581461, 0.023122925262137283, 0.005075764081932574, 0.015051584709875703, 0.9402223248769023, 0.03813068126501845, 0.006020633883950281, 0.0005017194903291901, 0.015305436135335736, 0.929805245221646, 0.030610872270671472, 0.022958154203003605, 0.1959888555855395, 0.14987383074188315, 0.6150340813387646, 0.03809502052302047, 0.001002500540079486, 0.23636904854819216, 0.5870937490937818, 0.1250764943721535, 0.03165201082070824, 0.0199101358388326, 0.9885789341133939, 0.1808330677985672, 0.031080683527878735, 0.7600639880908527, 0.031080683527878735, 0.3422723243158161, 0.46105489624487567, 0.1369775901725282, 0.03398692086987542, 0.025404365094654355, 0.16815627323735882, 0.5004650989207108, 0.16481983924455407, 0.06272495906472908, 0.10409674057550784, 0.7072313958033084, 0.13249306904533648, 0.12924392021316203, 0.030325389100295, 0.0003610165369082738, 0.9885042327126959, 0.00487320346092906, 0.9746406921858121, 0.01705621211325171, 0.0034781887110013755, 0.059129208087023384, 0.9251981971263659, 0.013912754844005502, 0.06709145257682457, 0.7403851078690711, 0.19128201372967005, 0.0009516518096003484, 0.9963245405888925, 0.10395977708551693, 0.048129526428480056, 0.7816235091985161, 0.06545615594273288, 0.406354866915327, 0.5763712166739418, 0.015264625829720832, 0.002105465631685632, 0.7288097647857822, 0.08927658957050444, 0.08289038097349026, 0.09084055902283444, 0.008080508837038359, 0.9793699536288871, 0.6949733366254932, 0.07704133506370675, 0.1724088999462629, 0.05373321752711187, 0.0019571701748285777, 0.6869322618435468, 0.062137222612141454, 0.1595557495888039, 0.09030960744052761, 0.001053173264612567, 0.020472737184704562, 0.982691384865819, 0.5975556277838989, 0.2097027748126112, 0.16495377607284867, 0.027069337611954652, 0.0006767334402988664, 0.7105311886873924, 0.16676051236036116, 0.09073273655629406, 0.029409921504453936, 0.0025029720429322498, 0.03025471687421047, 0.2126234269215347, 0.6034135198800866, 0.13782704353806993, 0.01680817604122804, 0.07927536053463427, 0.9040764520545526, 0.013493678388873918, 0.0016867097986092397, 0.982937078661432, 0.778677663223767, 0.1610847624935974, 0.01702027679177633, 0.015804542735220875, 0.027354016272497672, 0.7062209915761773, 0.11422673910208317, 0.10085978027098834, 0.07027779870287741, 0.008303716849619521, 0.3504056787039661, 0.3027505064002267, 0.28083422395037866, 0.04740033181013651, 0.01834851553940768, 0.9832639120238482, 0.9871012878231122, 0.9765000696736109, 0.9891623179991789, 0.9820725463231704, 0.9769717410237752, 0.9926434531717316, 0.949142666620038, 0.03954761110916825, 0.9796675897216128, 0.21175424961302855, 0.023528249957003172, 0.7641079271750554, 0.9657010402754926, 0.95972096646555, 0.6217337534544389, 0.25459047451075517, 0.08448548040557355, 0.0025515749115777244, 0.03657257373261405, 0.3257559245300285, 0.43178628427901816, 0.18683060377457517, 0.04055980628952316, 0.015329690566118988, 0.7534159375986562, 0.0001474683769032406, 0.010470254760130082, 0.17371774799201745, 0.06223165505316754, 0.7663024050021346, 0.016826760329422593, 0.14762547289010866, 0.06544827128130067, 0.0038153700746946574, 0.6685682161504318, 0.12298036669360658, 0.16943418313850767, 0.03545159676058241, 0.00366740656143956, 0.5162382184220107, 0.017681553658490886, 0.3814163717760177, 0.07925124943359309, 0.005051872473854539, 0.1438053167547116, 0.7957227527094041, 0.06071780040754489, 0.8788360187092971, 0.02395150575098713, 0.0718545172529614, 0.025793929270293833, 0.9873301227780981, 0.010600350436480692, 0.05618185731334767, 0.12084399497587989, 0.060421997487939944, 0.7526248809901291, 0.005764545879309943, 0.7609200560689124, 0.23250335046550102, 0.0009607576465516572, 0.9092642186170617, 0.05338799081788252, 0.03670424368729423, 0.9290235976727947, 0.040552617358733105, 0.02949281262453317, 0.998631639866011, 0.014623170230017008, 0.982677039457143, 0.9842194297313901, 0.9921335170574787, 0.9735965448549126, 0.2541298610776113, 0.7417844593616763, 0.9932736602845803, 0.2086205307037366, 0.010949696362903303, 0.5146357290564553, 0.2633690125182531, 0.00288149904286929, 0.4169569762730218, 0.4536021021476544, 0.07537883405300076, 0.023923760933697972, 0.030189507844904585, 0.9832002403934975, 0.7713421754089427, 0.12356197083919668, 0.08675627739773384, 0.013144890514808157, 0.005257956205923263, 0.9787463873234722, 0.2178814346756301, 0.7781479809843932, 0.3263932383284101, 0.0011695189190626817, 0.5190714802439869, 0.10048116712946874, 0.052920731087586347, 0.9671993473938424, 0.9919291147675855, 0.9946744210746805, 0.12971878479295545, 0.24799179445712072, 0.6218871153309334, 0.1816807273309445, 0.1376799261804814, 0.26613387792618826, 0.08800160230092624, 0.32645755692279094, 0.9901444297049016], \"Term\": [\"aaah\", \"aah\", \"afterglow\", \"ahah\", \"alright\", \"alright\", \"alright\", \"alright\", \"alright\", \"amen\", \"amo\", \"andante\", \"angel\", \"angel\", \"angel\", \"angel\", \"anna\", \"annie\", \"annie\", \"anymore\", \"anymore\", \"anymore\", \"anymore\", \"applause\", \"applause\", \"ashe\", \"ass\", \"available\", \"available\", \"away\", \"away\", \"away\", \"away\", \"away\", \"babe\", \"babe\", \"babe\", \"babe\", \"baby\", \"baby\", \"baby\", \"baby\", \"badreally\", \"bang\", \"bang\", \"bass\", \"battlefield\", \"bear\", \"bear\", \"bear\", \"bear\", \"bear\", \"bedum\", \"beggin\", \"beggin\", \"beneath\", \"beneath\", \"beneath\", \"bernie\", \"bernie\", \"bernie\", \"betray\", \"bicycle\", \"big\", \"big\", \"big\", \"big\", \"big\", \"bird\", \"bird\", \"bird\", \"bitch\", \"bobby\", \"boogie\", \"boom\", \"bop\", \"boring\", \"bout\", \"bout\", \"bout\", \"bout\", \"boy\", \"boy\", \"boy\", \"boy\", \"boy\", \"break\", \"break\", \"break\", \"break\", \"break\", \"breathless\", \"brokenhearted\", \"bum\", \"bum\", \"burden\", \"burn\", \"burn\", \"burn\", \"burn\", \"burn\", \"butterfly\", \"butterfly\", \"butterfly\", \"car\", \"car\", \"car\", \"car\", \"car\", \"carefull\", \"cause\", \"cause\", \"cause\", \"cause\", \"cause\", \"chat\", \"chick\", \"child\", \"child\", \"child\", \"child\", \"child\", \"chorus\", \"chorus\", \"chorus\", \"chorus\", \"chorus\", \"christmas\", \"christmas\", \"christmas\", \"circus\", \"city\", \"city\", \"city\", \"city\", \"city\", \"club\", \"club\", \"cmon\", \"cmon\", \"cmon\", \"cmon\", \"cold\", \"cold\", \"cold\", \"cold\", \"cold\", \"come\", \"come\", \"come\", \"come\", \"come\", \"cool\", \"cool\", \"cool\", \"cool\", \"cool\", \"crazy\", \"crazy\", \"crazy\", \"crazy\", \"crazy\", \"creation\", \"cuz\", \"cuz\", \"cuz\", \"cuz\", \"daddy\", \"daddy\", \"daddy\", \"daddy\", \"daddy\", \"dam\", \"dance\", \"dance\", \"dance\", \"dance\", \"dance\", \"dancer\", \"dancer\", \"dancer\", \"dancing\", \"dancing\", \"dancing\", \"dancing\", \"darkness\", \"darkness\", \"darkness\", \"darle\", \"darle\", \"darling\", \"darling\", \"darling\", \"darling\", \"day\", \"day\", \"day\", \"day\", \"day\", \"dead\", \"dead\", \"dead\", \"dead\", \"dead\", \"death\", \"death\", \"death\", \"death\", \"death\", \"dem\", \"demon\", \"demon\", \"demon\", \"destruction\", \"dick\", \"die\", \"die\", \"die\", \"die\", \"die\", \"dodo\", \"doo\", \"dope\", \"dream\", \"dream\", \"dream\", \"dream\", \"dream\", \"dreamland\", \"drive\", \"drive\", \"drive\", \"drive\", \"drive\", \"dwell\", \"earth\", \"earth\", \"earth\", \"earth\", \"earthly\", \"echo\", \"echo\", \"eminem\", \"end\", \"end\", \"end\", \"end\", \"eternal\", \"everytime\", \"everytime\", \"eye\", \"eye\", \"eye\", \"eye\", \"eye\", \"fall\", \"fall\", \"fall\", \"fall\", \"fall\", \"fast\", \"fast\", \"fast\", \"fast\", \"fast\", \"feel\", \"feel\", \"feel\", \"feel\", \"feel\", \"feeling\", \"feeling\", \"feeling\", \"feeling\", \"fiddle\", \"fighter\", \"find\", \"find\", \"find\", \"find\", \"find\", \"fire\", \"fire\", \"fire\", \"fire\", \"fire\", \"fly\", \"fly\", \"fly\", \"fly\", \"forest\", \"forever\", \"forever\", \"forever\", \"forever\", \"free\", \"free\", \"free\", \"free\", \"free\", \"frozen\", \"frozen\", \"fuck\", \"fuck\", \"fuck\", \"fuckin\", \"garden\", \"garden\", \"get\", \"get\", \"get\", \"get\", \"get\", \"getcha\", \"gettin\", \"gettin\", \"gettin\", \"gettin\", \"ghoul\", \"gimme\", \"gimme\", \"girl\", \"girl\", \"girl\", \"girl\", \"girl\", \"glitter\", \"gloria\", \"go\", \"go\", \"go\", \"go\", \"go\", \"god\", \"god\", \"god\", \"god\", \"god\", \"goldeneye\", \"gon\", \"gon\", \"gon\", \"gon\", \"gon\", \"good\", \"good\", \"good\", \"good\", \"good\", \"grave\", \"grave\", \"grave\", \"grave\", \"greedy\", \"greedy\", \"gun\", \"gun\", \"gun\", \"gun\", \"gun\", \"gypsy\", \"gypsy\", \"hallelujah\", \"hand\", \"hand\", \"hand\", \"hand\", \"hand\", \"handsome\", \"head\", \"head\", \"head\", \"head\", \"head\", \"hear\", \"hear\", \"hear\", \"hear\", \"hear\", \"heart\", \"heart\", \"heart\", \"heart\", \"heartache\", \"heartache\", \"heartbreaker\", \"heaven\", \"heaven\", \"heaven\", \"heaven\", \"heaven\", \"heed\", \"hey\", \"hey\", \"hey\", \"hey\", \"hey\", \"hit\", \"hit\", \"hit\", \"hit\", \"hit\", \"hmm\", \"hmm\", \"hoe\", \"hold\", \"hold\", \"hold\", \"hold\", \"hold\", \"home\", \"home\", \"home\", \"home\", \"home\", \"honestly\", \"honky\", \"hoo\", \"hood\", \"hook\", \"hook\", \"hook\", \"hook\", \"hopelessly\", \"hot\", \"hot\", \"hot\", \"hot\", \"hot\", \"house\", \"house\", \"house\", \"house\", \"hump\", \"hurt\", \"hurt\", \"hurt\", \"hurt\", \"iiiohh\", \"ill\", \"ill\", \"ill\", \"ill\", \"ill\", \"imagination\", \"imagination\", \"imagination\", \"imma\", \"imma\", \"imma\", \"imma\", \"inferno\", \"inferno\", \"intermediate\", \"john\", \"john\", \"john\", \"john\", \"jolene\", \"killer\", \"killer\", \"killer\", \"killer\", \"kingdom\", \"kissin\", \"know\", \"know\", \"know\", \"know\", \"know\", \"lady\", \"lady\", \"lady\", \"lady\", \"lady\", \"land\", \"land\", \"land\", \"land\", \"las\", \"lea\", \"leave\", \"leave\", \"leave\", \"leave\", \"leave\", \"legend\", \"lemme\", \"let\", \"let\", \"let\", \"let\", \"let\", \"lie\", \"lie\", \"lie\", \"lie\", \"lie\", \"life\", \"life\", \"life\", \"life\", \"life\", \"light\", \"light\", \"light\", \"light\", \"light\", \"like\", \"like\", \"like\", \"like\", \"like\", \"lil\", \"lily\", \"little\", \"little\", \"little\", \"little\", \"little\", \"live\", \"live\", \"live\", \"live\", \"live\", \"lonely\", \"lonely\", \"lonely\", \"lonesome\", \"lonesome\", \"look\", \"look\", \"look\", \"look\", \"look\", \"loosen\", \"love\", \"love\", \"love\", \"love\", \"love\", \"loves\", \"loving\", \"lyric\", \"lyric\", \"lyric\", \"madness\", \"madness\", \"magic\", \"magic\", \"magic\", \"magic\", \"mama\", \"mama\", \"mama\", \"man\", \"man\", \"man\", \"man\", \"man\", \"manboy\", \"mandy\", \"mandy\", \"maria\", \"meant\", \"miss\", \"miss\", \"miss\", \"miss\", \"miss\", \"mmmm\", \"mmmm\", \"mmmm\", \"money\", \"money\", \"money\", \"money\", \"money\", \"monkey\", \"motherfucker\", \"mountain\", \"mountain\", \"mountain\", \"mountain\", \"music\", \"music\", \"music\", \"music\", \"music\", \"nah\", \"naive\", \"naked\", \"naked\", \"naked\", \"naked\", \"naked\", \"nasty\", \"need\", \"need\", \"need\", \"need\", \"need\", \"new\", \"new\", \"new\", \"new\", \"new\", \"nigga\", \"niggas\", \"niggaz\", \"night\", \"night\", \"night\", \"night\", \"night\", \"nike\", \"nina\", \"nite\", \"nutbush\", \"ohh\", \"ohh\", \"ohh\", \"ohh\", \"ohhhh\", \"ohoh\", \"ohohoh\", \"old\", \"old\", \"old\", \"old\", \"old\", \"ooh\", \"ooh\", \"ooh\", \"ooh\", \"ooo\", \"ooo\", \"ooo\", \"oooh\", \"oooh\", \"ooooo\", \"party\", \"party\", \"party\", \"party\", \"path\", \"path\", \"people\", \"people\", \"people\", \"people\", \"people\", \"play\", \"play\", \"play\", \"play\", \"play\", \"pop\", \"pop\", \"pussy\", \"radar\", \"radar\", \"rael\", \"rain\", \"rain\", \"rain\", \"rain\", \"raining\", \"rap\", \"rattle\", \"realize\", \"realize\", \"realize\", \"realize\", \"refro\", \"refro\", \"reign\", \"replay\", \"ride\", \"ride\", \"ride\", \"ride\", \"ride\", \"rider\", \"right\", \"right\", \"right\", \"right\", \"right\", \"rise\", \"rise\", \"rise\", \"rise\", \"river\", \"river\", \"river\", \"roar\", \"roar\", \"rock\", \"rock\", \"rock\", \"rock\", \"rocket\", \"rockin\", \"rockin\", \"roll\", \"roll\", \"roll\", \"roll\", \"rollin\", \"rollin\", \"rolling\", \"rot\", \"round\", \"round\", \"round\", \"round\", \"round\", \"roxanne\", \"rumour\", \"run\", \"run\", \"run\", \"run\", \"run\", \"sail\", \"sail\", \"sail\", \"sally\", \"salute\", \"salute\", \"salvation\", \"satisfaction\", \"satisfaction\", \"satisfaction\", \"save\", \"save\", \"save\", \"save\", \"save\", \"savior\", \"say\", \"say\", \"say\", \"say\", \"say\", \"sea\", \"sea\", \"sea\", \"sensation\", \"sensation\", \"sexy\", \"shadow\", \"shadow\", \"shadow\", \"shake\", \"shake\", \"shake\", \"shake\", \"shake\", \"shall\", \"shall\", \"shelter\", \"shelter\", \"shelter\", \"shine\", \"shine\", \"shine\", \"shine\", \"shine\", \"shit\", \"shit\", \"shoop\", \"shore\", \"shore\", \"shout\", \"shout\", \"shout\", \"shout\", \"shout\", \"silent\", \"silent\", \"silent\", \"sincere\", \"sing\", \"sing\", \"sing\", \"sing\", \"sing\", \"sky\", \"sky\", \"sky\", \"sky\", \"sky\", \"snow\", \"snow\", \"snow\", \"snow\", \"song\", \"song\", \"song\", \"song\", \"song\", \"soul\", \"soul\", \"soul\", \"soul\", \"soul\", \"sow\", \"spin\", \"spin\", \"spin\", \"spin\", \"stand\", \"stand\", \"stand\", \"stand\", \"stand\", \"star\", \"star\", \"star\", \"star\", \"star\", \"stay\", \"stay\", \"stay\", \"stay\", \"stay\", \"steamy\", \"storm\", \"storm\", \"storm\", \"suck\", \"suck\", \"suck\", \"suck\", \"sun\", \"sun\", \"sun\", \"sun\", \"sway\", \"talkin\", \"talkin\", \"talkin\", \"talkin\", \"tear\", \"tear\", \"tear\", \"tear\", \"tell\", \"tell\", \"tell\", \"tell\", \"tell\", \"tenderly\", \"thing\", \"thing\", \"thing\", \"thing\", \"thing\", \"think\", \"think\", \"think\", \"think\", \"think\", \"thriller\", \"thriller\", \"time\", \"time\", \"time\", \"time\", \"time\", \"tonight\", \"tonight\", \"tonight\", \"tonight\", \"tonight\", \"town\", \"town\", \"town\", \"town\", \"town\", \"train\", \"train\", \"train\", \"train\", \"trance\", \"true\", \"true\", \"true\", \"true\", \"true\", \"try\", \"try\", \"try\", \"try\", \"try\", \"turn\", \"turn\", \"turn\", \"turn\", \"turn\", \"uette\", \"uhhuh\", \"unconditional\", \"undercover\", \"understanding\", \"unstoppable\", \"unto\", \"untrue\", \"untrue\", \"uuh\", \"verse\", \"verse\", \"verse\", \"viva\", \"vulnerable\", \"wait\", \"wait\", \"wait\", \"wait\", \"wait\", \"walk\", \"walk\", \"walk\", \"walk\", \"walk\", \"wanna\", \"wanna\", \"wanna\", \"wanna\", \"wanna\", \"want\", \"want\", \"want\", \"want\", \"want\", \"way\", \"way\", \"way\", \"way\", \"way\", \"well\", \"well\", \"well\", \"well\", \"well\", \"wheel\", \"wheel\", \"wheel\", \"whoa\", \"whoa\", \"whoa\", \"whoa\", \"whoaoh\", \"wild\", \"wild\", \"wild\", \"wild\", \"wild\", \"wind\", \"wind\", \"wind\", \"wind\", \"wing\", \"wing\", \"wing\", \"winter\", \"winter\", \"winter\", \"wit\", \"woah\", \"woah\", \"woahoh\", \"woh\", \"womanizer\", \"wonderful\", \"wonderful\", \"wooh\", \"work\", \"work\", \"work\", \"work\", \"work\", \"world\", \"world\", \"world\", \"world\", \"world\", \"worm\", \"wrong\", \"wrong\", \"wrong\", \"wrong\", \"wrong\", \"yah\", \"yea\", \"yea\", \"yeah\", \"yeah\", \"yeah\", \"yeah\", \"yeah\", \"yeeeeeah\", \"yeh\", \"yonder\", \"york\", \"york\", \"york\", \"young\", \"young\", \"young\", \"young\", \"young\", \"zero\"]}, \"R\": 30, \"lambda.step\": 0.01, \"plot.opts\": {\"xlab\": \"PC1\", \"ylab\": \"PC2\"}, \"topic.order\": [1, 5, 4, 3, 2]};\n",
       "\n",
       "function LDAvis_load_lib(url, callback){\n",
       "  var s = document.createElement('script');\n",
       "  s.src = url;\n",
       "  s.async = true;\n",
       "  s.onreadystatechange = s.onload = callback;\n",
       "  s.onerror = function(){console.warn(\"failed to load library \" + url);};\n",
       "  document.getElementsByTagName(\"head\")[0].appendChild(s);\n",
       "}\n",
       "\n",
       "if(typeof(LDAvis) !== \"undefined\"){\n",
       "   // already loaded: just create the visualization\n",
       "   !function(LDAvis){\n",
       "       new LDAvis(\"#\" + \"ldavis_el17811404151219344803310648867\", ldavis_el17811404151219344803310648867_data);\n",
       "   }(LDAvis);\n",
       "}else if(typeof define === \"function\" && define.amd){\n",
       "   // require.js is available: use it to load d3/LDAvis\n",
       "   require.config({paths: {d3: \"https://d3js.org/d3.v5\"}});\n",
       "   require([\"d3\"], function(d3){\n",
       "      window.d3 = d3;\n",
       "      LDAvis_load_lib(\"https://cdn.jsdelivr.net/gh/bmabey/pyLDAvis@3.3.1/pyLDAvis/js/ldavis.v3.0.0.js\", function(){\n",
       "        new LDAvis(\"#\" + \"ldavis_el17811404151219344803310648867\", ldavis_el17811404151219344803310648867_data);\n",
       "      });\n",
       "    });\n",
       "}else{\n",
       "    // require.js not available: dynamically load d3 & LDAvis\n",
       "    LDAvis_load_lib(\"https://d3js.org/d3.v5.js\", function(){\n",
       "         LDAvis_load_lib(\"https://cdn.jsdelivr.net/gh/bmabey/pyLDAvis@3.3.1/pyLDAvis/js/ldavis.v3.0.0.js\", function(){\n",
       "                 new LDAvis(\"#\" + \"ldavis_el17811404151219344803310648867\", ldavis_el17811404151219344803310648867_data);\n",
       "            })\n",
       "         });\n",
       "}\n",
       "</script>"
      ],
      "text/plain": [
       "PreparedData(topic_coordinates=              x         y  topics  cluster       Freq\n",
       "topic                                                \n",
       "0     -0.128341 -0.040133       1        1  34.512948\n",
       "4     -0.129102 -0.127985       2        1  24.479364\n",
       "3     -0.074515  0.041710       3        1  20.017332\n",
       "2      0.040309  0.220551       4        1  17.164511\n",
       "1      0.291648 -0.094142       5        1   3.825845, topic_info=       Term          Freq         Total Category  logprob  loglift\n",
       "113    baby  10986.000000  10986.000000  Default  30.0000  30.0000\n",
       "33     love  21368.000000  21368.000000  Default  29.0000  29.0000\n",
       "110    yeah  10260.000000  10260.000000  Default  28.0000  28.0000\n",
       "1216    ooh   1999.000000   1999.000000  Default  27.0000  27.0000\n",
       "426   wanna   6781.000000   6781.000000  Default  26.0000  26.0000\n",
       "...     ...           ...           ...      ...      ...      ...\n",
       "401     new    179.679158   2351.463403   Topic5  -5.5611   0.6918\n",
       "344    burn    167.905196   2352.387263   Topic5  -5.6288   0.6236\n",
       "215    star    155.738843   1498.606000   Topic5  -5.7041   0.9993\n",
       "55    world    158.846660   5266.730442   Topic5  -5.6843  -0.2378\n",
       "745     hey    145.367654   3402.992074   Topic5  -5.7730   0.1102\n",
       "\n",
       "[441 rows x 6 columns], token_table=       Topic      Freq       Term\n",
       "term                             \n",
       "3660       5  0.986320       aaah\n",
       "7674       4  0.996468        aah\n",
       "7594       3  0.983845  afterglow\n",
       "10275      1  0.978136       ahah\n",
       "432        1  0.859474    alright\n",
       "...      ...       ...        ...\n",
       "112        2  0.137680      young\n",
       "112        3  0.266134      young\n",
       "112        4  0.088002      young\n",
       "112        5  0.326458      young\n",
       "4442       3  0.990144       zero\n",
       "\n",
       "[1015 rows x 3 columns], R=30, lambda_step=0.01, plot_opts={'xlab': 'PC1', 'ylab': 'PC2'}, topic_order=[1, 5, 4, 3, 2])"
      ]
     },
     "execution_count": 40,
     "metadata": {},
     "output_type": "execute_result"
    }
   ],
   "source": [
    "pyLDAvis.enable_notebook()\n",
    "vis = pyLDAvis.gensim_models.prepare(lda_multicore, corpus, id2words)\n",
    "vis"
   ]
  },
  {
   "cell_type": "code",
   "execution_count": 41,
   "id": "6771ef65",
   "metadata": {},
   "outputs": [
    {
     "name": "stderr",
     "output_type": "stream",
     "text": [
      "/Users/dylansivori/.local/share/virtualenvs/Spotify-Song-Suggester-AdyWyJ8v/lib/python3.8/site-packages/ipykernel/ipkernel.py:283: DeprecationWarning: `should_run_async` will not call `transform_cell` automatically in the future. Please pass the result to `transformed_cell` argument and any exception that happen during thetransform in `preprocessing_exc_tuple` in IPython 7.17 and above.\n",
      "  and should_run_async(code)\n"
     ]
    }
   ],
   "source": [
    "# create a dictionary \n",
    "# keys - use topic ids from pyLDAvis visualization \n",
    "# values - topic names that you create \n",
    "\n",
    "vis_topic_name_dict = {1:\"Existential\", \n",
    "                       2:\"Love\", \n",
    "                       3:\"Gangsta\", \n",
    "                       4:\"Religion\", \n",
    "                       5:\"Poppy\"\n",
    "                       }"
   ]
  },
  {
   "cell_type": "code",
   "execution_count": 42,
   "id": "68cd0546",
   "metadata": {},
   "outputs": [
    {
     "name": "stderr",
     "output_type": "stream",
     "text": [
      "/Users/dylansivori/.local/share/virtualenvs/Spotify-Song-Suggester-AdyWyJ8v/lib/python3.8/site-packages/ipykernel/ipkernel.py:283: DeprecationWarning: `should_run_async` will not call `transform_cell` automatically in the future. Please pass the result to `transformed_cell` argument and any exception that happen during thetransform in `preprocessing_exc_tuple` in IPython 7.17 and above.\n",
      "  and should_run_async(code)\n"
     ]
    }
   ],
   "source": [
    "def get_topic_id_lookup_dict(vis, vis_topic_name_dict):\n",
    "    \"\"\"\n",
    "    Both the starting index and the ordering of topic ids bewteen the trained LDA model \n",
    "    and the viz tool are different. So we need to create a look up dictionary that maps \n",
    "    the correct association between topic ids from both sources. \n",
    "    \"\"\"\n",
    "    # value is order of topic ids accoridng to pyLDAvis tool \n",
    "    # key is order of topic ids according to lda model\n",
    "    model_vis_tool_topic_id_lookup = vis.topic_coordinates.topics.to_dict()\n",
    "    #return model_vis_tool_topic_id_lookup\n",
    "\n",
    "    # invert dictionary so that \n",
    "    # key is order of topic ids accoridng to pyLDAvis tool \n",
    "    # value is order of topic ids according to lda model\n",
    "    topic_id_lookup =  {v:k for k, v in model_vis_tool_topic_id_lookup.items()}\n",
    "    \n",
    "    return {v:vis_topic_name_dict[k]  for k, v in topic_id_lookup.items()}"
   ]
  },
  {
   "cell_type": "code",
   "execution_count": 43,
   "id": "0dcefea7",
   "metadata": {},
   "outputs": [
    {
     "name": "stderr",
     "output_type": "stream",
     "text": [
      "/Users/dylansivori/.local/share/virtualenvs/Spotify-Song-Suggester-AdyWyJ8v/lib/python3.8/site-packages/ipykernel/ipkernel.py:283: DeprecationWarning: `should_run_async` will not call `transform_cell` automatically in the future. Please pass the result to `transformed_cell` argument and any exception that happen during thetransform in `preprocessing_exc_tuple` in IPython 7.17 and above.\n",
      "  and should_run_async(code)\n"
     ]
    }
   ],
   "source": [
    "# use get_topic_id_lookup_dict to update vis_topic_name_dict - save result to `topic_name_dict`\n",
    "\n",
    "topic_name_dict = get_topic_id_lookup_dict(vis, vis_topic_name_dict)\n"
   ]
  },
  {
   "cell_type": "code",
   "execution_count": 44,
   "id": "b589bd36",
   "metadata": {},
   "outputs": [
    {
     "name": "stderr",
     "output_type": "stream",
     "text": [
      "/Users/dylansivori/.local/share/virtualenvs/Spotify-Song-Suggester-AdyWyJ8v/lib/python3.8/site-packages/ipykernel/ipkernel.py:283: DeprecationWarning: `should_run_async` will not call `transform_cell` automatically in the future. Please pass the result to `transformed_cell` argument and any exception that happen during thetransform in `preprocessing_exc_tuple` in IPython 7.17 and above.\n",
      "  and should_run_async(code)\n"
     ]
    }
   ],
   "source": [
    "def get_topic_ids_for_docs(lda_model, corpus):\n",
    "    \n",
    "    \"\"\"\n",
    "    Passes a Bag-of-Words vector into a trained LDA model in order to get the topic id of that document. \n",
    "    \n",
    "    Parameters\n",
    "    ----------\n",
    "    lda_model: Gensim object\n",
    "        Must be a trained model \n",
    "        \n",
    "    corpus: nested lists of tuples, \n",
    "        i.e. [[(),(), ..., ()], [(),(), ..., ()], ..., [(),(), ..., ()]]\n",
    "        \n",
    "    Returns\n",
    "    -------\n",
    "    topic_id_list: list\n",
    "        Contains topic ids for all document vectors in corpus \n",
    "    \"\"\"\n",
    "    \n",
    "    # store topic ids for each document\n",
    "    doc_topic_ids = []\n",
    "\n",
    "    # iterature through the bow vectors for each doc\n",
    "    for doc_bow in corpus:\n",
    "        \n",
    "        # store the topic ids for the doc\n",
    "        topic_ids = []\n",
    "        # store the topic probabilities for the doc\n",
    "        topic_probs = []\n",
    "\n",
    "        # list of tuples\n",
    "        # each tuple has a topic id and the prob that the doc belongs to that topic \n",
    "        topic_id_prob_tuples = lda_multicore.get_document_topics(doc_bow)\n",
    "        \n",
    "        # iterate through the topic id/prob pairs \n",
    "        for topic_id_prob in topic_id_prob_tuples:\n",
    "            \n",
    "            # index for topic id\n",
    "            topic_id = topic_id_prob[0]\n",
    "            # index for prob that doc belongs that the corresponding topic\n",
    "            topic_prob = topic_id_prob[1]\n",
    "\n",
    "            # store all topic ids for doc\n",
    "            topic_ids.append(topic_id)\n",
    "            # store all topic probs for doc\n",
    "            topic_probs.append(topic_prob)\n",
    "\n",
    "        # get index for largest prob score\n",
    "        max_topic_prob_ind = np.argmax(topic_probs)\n",
    "        # get corresponding topic id\n",
    "        max_prob_topic_id = topic_ids[max_topic_prob_ind]\n",
    "        # store topic id that had the highest prob for doc being a memebr of that topic\n",
    "        doc_topic_ids.append(max_prob_topic_id)\n",
    "        \n",
    "    return doc_topic_ids"
   ]
  },
  {
   "cell_type": "code",
   "execution_count": 45,
   "id": "b7e308cf",
   "metadata": {},
   "outputs": [
    {
     "name": "stderr",
     "output_type": "stream",
     "text": [
      "/Users/dylansivori/.local/share/virtualenvs/Spotify-Song-Suggester-AdyWyJ8v/lib/python3.8/site-packages/ipykernel/ipkernel.py:283: DeprecationWarning: `should_run_async` will not call `transform_cell` automatically in the future. Please pass the result to `transformed_cell` argument and any exception that happen during thetransform in `preprocessing_exc_tuple` in IPython 7.17 and above.\n",
      "  and should_run_async(code)\n"
     ]
    }
   ],
   "source": [
    "# get the topic id for each doc in the corpus \n",
    "doc_topic_ids = get_topic_ids_for_docs(lda_multicore, corpus)\n",
    "\n",
    "# create a feature for document's topic id\n",
    "# topic ids from trained LDA model\n",
    "df_merged[\"topic_id\"] = doc_topic_ids\n",
    "\n",
    "# iterate through the topic id and use the lookup table to assign each document with a topic name\n",
    "df_merged[\"new_topic_name\"] = df_merged[\"topic_id\"].apply(lambda topic_id: topic_name_dict[topic_id])\n"
   ]
  },
  {
   "cell_type": "code",
   "execution_count": 46,
   "id": "608a43d5",
   "metadata": {
    "scrolled": true
   },
   "outputs": [
    {
     "name": "stderr",
     "output_type": "stream",
     "text": [
      "/Users/dylansivori/.local/share/virtualenvs/Spotify-Song-Suggester-AdyWyJ8v/lib/python3.8/site-packages/ipykernel/ipkernel.py:283: DeprecationWarning: `should_run_async` will not call `transform_cell` automatically in the future. Please pass the result to `transformed_cell` argument and any exception that happen during thetransform in `preprocessing_exc_tuple` in IPython 7.17 and above.\n",
      "  and should_run_async(code)\n"
     ]
    },
    {
     "data": {
      "text/html": [
       "<div>\n",
       "<style scoped>\n",
       "    .dataframe tbody tr th:only-of-type {\n",
       "        vertical-align: middle;\n",
       "    }\n",
       "\n",
       "    .dataframe tbody tr th {\n",
       "        vertical-align: top;\n",
       "    }\n",
       "\n",
       "    .dataframe thead th {\n",
       "        text-align: right;\n",
       "    }\n",
       "</style>\n",
       "<table border=\"1\" class=\"dataframe\">\n",
       "  <thead>\n",
       "    <tr style=\"text-align: right;\">\n",
       "      <th></th>\n",
       "      <th>Lyric</th>\n",
       "      <th>new_topic_name</th>\n",
       "    </tr>\n",
       "  </thead>\n",
       "  <tbody>\n",
       "    <tr>\n",
       "      <th>0</th>\n",
       "      <td>It starts with pain, followed by hate. Fueled ...</td>\n",
       "      <td>Love</td>\n",
       "    </tr>\n",
       "    <tr>\n",
       "      <th>1</th>\n",
       "      <td>You say you know just who I am. But you can't ...</td>\n",
       "      <td>Existential</td>\n",
       "    </tr>\n",
       "    <tr>\n",
       "      <th>2</th>\n",
       "      <td>We walk alone. In the unknown. We live to win ...</td>\n",
       "      <td>Love</td>\n",
       "    </tr>\n",
       "    <tr>\n",
       "      <th>3</th>\n",
       "      <td>A hundred days have made me older,. Since the ...</td>\n",
       "      <td>Existential</td>\n",
       "    </tr>\n",
       "    <tr>\n",
       "      <th>4</th>\n",
       "      <td>There's another world inside of me that you ma...</td>\n",
       "      <td>Existential</td>\n",
       "    </tr>\n",
       "  </tbody>\n",
       "</table>\n",
       "</div>"
      ],
      "text/plain": [
       "                                               Lyric new_topic_name\n",
       "0  It starts with pain, followed by hate. Fueled ...           Love\n",
       "1  You say you know just who I am. But you can't ...    Existential\n",
       "2  We walk alone. In the unknown. We live to win ...           Love\n",
       "3  A hundred days have made me older,. Since the ...    Existential\n",
       "4  There's another world inside of me that you ma...    Existential"
      ]
     },
     "execution_count": 46,
     "metadata": {},
     "output_type": "execute_result"
    }
   ],
   "source": [
    "cols = [\"Lyric\", \"new_topic_name\"]\n",
    "df_merged[cols].head()"
   ]
  },
  {
   "cell_type": "code",
   "execution_count": 47,
   "id": "3de6bac5",
   "metadata": {},
   "outputs": [
    {
     "name": "stderr",
     "output_type": "stream",
     "text": [
      "/Users/dylansivori/.local/share/virtualenvs/Spotify-Song-Suggester-AdyWyJ8v/lib/python3.8/site-packages/ipykernel/ipkernel.py:283: DeprecationWarning: `should_run_async` will not call `transform_cell` automatically in the future. Please pass the result to `transformed_cell` argument and any exception that happen during thetransform in `preprocessing_exc_tuple` in IPython 7.17 and above.\n",
      "  and should_run_async(code)\n",
      "/Users/dylansivori/.local/share/virtualenvs/Spotify-Song-Suggester-AdyWyJ8v/lib/python3.8/site-packages/category_encoders/utils.py:21: FutureWarning: is_categorical is deprecated and will be removed in a future version.  Use is_categorical_dtype instead\n",
      "  elif pd.api.types.is_categorical(cols):\n",
      "/Users/dylansivori/.local/share/virtualenvs/Spotify-Song-Suggester-AdyWyJ8v/lib/python3.8/site-packages/category_encoders/one_hot.py:208: DeprecationWarning: `np.int` is a deprecated alias for the builtin `int`. To silence this warning, use `int` by itself. Doing this will not modify any behavior and is safe. When replacing `np.int`, you may wish to use e.g. `np.int64` or `np.int32` to specify the precision. If you wish to review your current use, check the release note link for additional information.\n",
      "Deprecated in NumPy 1.20; for more details and guidance: https://numpy.org/devdocs/release/1.20.0-notes.html#deprecations\n",
      "  base_matrix = np.eye(N=len(index), dtype=np.int)\n"
     ]
    },
    {
     "data": {
      "text/html": [
       "<div>\n",
       "<style scoped>\n",
       "    .dataframe tbody tr th:only-of-type {\n",
       "        vertical-align: middle;\n",
       "    }\n",
       "\n",
       "    .dataframe tbody tr th {\n",
       "        vertical-align: top;\n",
       "    }\n",
       "\n",
       "    .dataframe thead th {\n",
       "        text-align: right;\n",
       "    }\n",
       "</style>\n",
       "<table border=\"1\" class=\"dataframe\">\n",
       "  <thead>\n",
       "    <tr style=\"text-align: right;\">\n",
       "      <th></th>\n",
       "      <th>new_topic_name_Love</th>\n",
       "      <th>new_topic_name_Existential</th>\n",
       "      <th>new_topic_name_Gangsta</th>\n",
       "      <th>new_topic_name_Religion</th>\n",
       "      <th>new_topic_name_Poppy</th>\n",
       "    </tr>\n",
       "  </thead>\n",
       "  <tbody>\n",
       "    <tr>\n",
       "      <th>0</th>\n",
       "      <td>1</td>\n",
       "      <td>0</td>\n",
       "      <td>0</td>\n",
       "      <td>0</td>\n",
       "      <td>0</td>\n",
       "    </tr>\n",
       "    <tr>\n",
       "      <th>1</th>\n",
       "      <td>0</td>\n",
       "      <td>1</td>\n",
       "      <td>0</td>\n",
       "      <td>0</td>\n",
       "      <td>0</td>\n",
       "    </tr>\n",
       "    <tr>\n",
       "      <th>2</th>\n",
       "      <td>1</td>\n",
       "      <td>0</td>\n",
       "      <td>0</td>\n",
       "      <td>0</td>\n",
       "      <td>0</td>\n",
       "    </tr>\n",
       "    <tr>\n",
       "      <th>3</th>\n",
       "      <td>0</td>\n",
       "      <td>1</td>\n",
       "      <td>0</td>\n",
       "      <td>0</td>\n",
       "      <td>0</td>\n",
       "    </tr>\n",
       "    <tr>\n",
       "      <th>4</th>\n",
       "      <td>0</td>\n",
       "      <td>1</td>\n",
       "      <td>0</td>\n",
       "      <td>0</td>\n",
       "      <td>0</td>\n",
       "    </tr>\n",
       "  </tbody>\n",
       "</table>\n",
       "</div>"
      ],
      "text/plain": [
       "   new_topic_name_Love  new_topic_name_Existential  new_topic_name_Gangsta  \\\n",
       "0                    1                           0                       0   \n",
       "1                    0                           1                       0   \n",
       "2                    1                           0                       0   \n",
       "3                    0                           1                       0   \n",
       "4                    0                           1                       0   \n",
       "\n",
       "   new_topic_name_Religion  new_topic_name_Poppy  \n",
       "0                        0                     0  \n",
       "1                        0                     0  \n",
       "2                        0                     0  \n",
       "3                        0                     0  \n",
       "4                        0                     0  "
      ]
     },
     "execution_count": 47,
     "metadata": {},
     "output_type": "execute_result"
    }
   ],
   "source": [
    "ohe = OneHotEncoder(use_cat_names=True)\n",
    "\n",
    "ohe_topics = ohe.fit_transform(df_merged['new_topic_name'])\n",
    "ohe_topics.head()"
   ]
  },
  {
   "cell_type": "code",
   "execution_count": 48,
   "id": "83b480f8",
   "metadata": {
    "scrolled": true
   },
   "outputs": [
    {
     "name": "stderr",
     "output_type": "stream",
     "text": [
      "/Users/dylansivori/.local/share/virtualenvs/Spotify-Song-Suggester-AdyWyJ8v/lib/python3.8/site-packages/ipykernel/ipkernel.py:283: DeprecationWarning: `should_run_async` will not call `transform_cell` automatically in the future. Please pass the result to `transformed_cell` argument and any exception that happen during thetransform in `preprocessing_exc_tuple` in IPython 7.17 and above.\n",
      "  and should_run_async(code)\n"
     ]
    },
    {
     "data": {
      "text/plain": [
       "(12780, 24)"
      ]
     },
     "execution_count": 48,
     "metadata": {},
     "output_type": "execute_result"
    }
   ],
   "source": [
    "df_merged.shape"
   ]
  },
  {
   "cell_type": "code",
   "execution_count": 49,
   "id": "27323960",
   "metadata": {
    "scrolled": true
   },
   "outputs": [
    {
     "name": "stderr",
     "output_type": "stream",
     "text": [
      "/Users/dylansivori/.local/share/virtualenvs/Spotify-Song-Suggester-AdyWyJ8v/lib/python3.8/site-packages/ipykernel/ipkernel.py:283: DeprecationWarning: `should_run_async` will not call `transform_cell` automatically in the future. Please pass the result to `transformed_cell` argument and any exception that happen during thetransform in `preprocessing_exc_tuple` in IPython 7.17 and above.\n",
      "  and should_run_async(code)\n"
     ]
    },
    {
     "data": {
      "text/html": [
       "<div>\n",
       "<style scoped>\n",
       "    .dataframe tbody tr th:only-of-type {\n",
       "        vertical-align: middle;\n",
       "    }\n",
       "\n",
       "    .dataframe tbody tr th {\n",
       "        vertical-align: top;\n",
       "    }\n",
       "\n",
       "    .dataframe thead th {\n",
       "        text-align: right;\n",
       "    }\n",
       "</style>\n",
       "<table border=\"1\" class=\"dataframe\">\n",
       "  <thead>\n",
       "    <tr style=\"text-align: right;\">\n",
       "      <th></th>\n",
       "      <th>Artist</th>\n",
       "      <th>name</th>\n",
       "      <th>SLink</th>\n",
       "      <th>Lyric</th>\n",
       "      <th>Idiom</th>\n",
       "      <th>id</th>\n",
       "      <th>popularity</th>\n",
       "      <th>explicit</th>\n",
       "      <th>id_artists</th>\n",
       "      <th>release_date</th>\n",
       "      <th>...</th>\n",
       "      <th>valence</th>\n",
       "      <th>tempo</th>\n",
       "      <th>time_signature</th>\n",
       "      <th>topic_id</th>\n",
       "      <th>new_topic_name</th>\n",
       "      <th>new_topic_name_Love</th>\n",
       "      <th>new_topic_name_Existential</th>\n",
       "      <th>new_topic_name_Gangsta</th>\n",
       "      <th>new_topic_name_Religion</th>\n",
       "      <th>new_topic_name_Poppy</th>\n",
       "    </tr>\n",
       "  </thead>\n",
       "  <tbody>\n",
       "    <tr>\n",
       "      <th>0</th>\n",
       "      <td>12 stones</td>\n",
       "      <td>world so cold</td>\n",
       "      <td>/12-stones/world-so-cold.html</td>\n",
       "      <td>It starts with pain, followed by hate. Fueled ...</td>\n",
       "      <td>ENGLISH</td>\n",
       "      <td>471eQ7hcJ7JdGY1NzMmUeg</td>\n",
       "      <td>55</td>\n",
       "      <td>0</td>\n",
       "      <td>['0DrXhci3WAyo0WJv1RBOG6']</td>\n",
       "      <td>2007-01-01</td>\n",
       "      <td>...</td>\n",
       "      <td>0.394</td>\n",
       "      <td>186.227</td>\n",
       "      <td>3</td>\n",
       "      <td>4</td>\n",
       "      <td>Love</td>\n",
       "      <td>1</td>\n",
       "      <td>0</td>\n",
       "      <td>0</td>\n",
       "      <td>0</td>\n",
       "      <td>0</td>\n",
       "    </tr>\n",
       "    <tr>\n",
       "      <th>1</th>\n",
       "      <td>12 stones</td>\n",
       "      <td>anthem for the underdog</td>\n",
       "      <td>/12-stones/anthem-for-the-underdog.html</td>\n",
       "      <td>You say you know just who I am. But you can't ...</td>\n",
       "      <td>ENGLISH</td>\n",
       "      <td>6FFwt1ea9hJ4MfMQLywahm</td>\n",
       "      <td>59</td>\n",
       "      <td>0</td>\n",
       "      <td>['0DrXhci3WAyo0WJv1RBOG6']</td>\n",
       "      <td>2007-01-01</td>\n",
       "      <td>...</td>\n",
       "      <td>0.468</td>\n",
       "      <td>93.977</td>\n",
       "      <td>3</td>\n",
       "      <td>0</td>\n",
       "      <td>Existential</td>\n",
       "      <td>0</td>\n",
       "      <td>1</td>\n",
       "      <td>0</td>\n",
       "      <td>0</td>\n",
       "      <td>0</td>\n",
       "    </tr>\n",
       "    <tr>\n",
       "      <th>2</th>\n",
       "      <td>12 stones</td>\n",
       "      <td>we are one</td>\n",
       "      <td>/12-stones/we-are-one.html</td>\n",
       "      <td>We walk alone. In the unknown. We live to win ...</td>\n",
       "      <td>ENGLISH</td>\n",
       "      <td>4lhqal0Hq63U2wETCeBdG1</td>\n",
       "      <td>58</td>\n",
       "      <td>0</td>\n",
       "      <td>['0DrXhci3WAyo0WJv1RBOG6']</td>\n",
       "      <td>2010-01-01</td>\n",
       "      <td>...</td>\n",
       "      <td>0.306</td>\n",
       "      <td>127.102</td>\n",
       "      <td>4</td>\n",
       "      <td>4</td>\n",
       "      <td>Love</td>\n",
       "      <td>1</td>\n",
       "      <td>0</td>\n",
       "      <td>0</td>\n",
       "      <td>0</td>\n",
       "      <td>0</td>\n",
       "    </tr>\n",
       "    <tr>\n",
       "      <th>3</th>\n",
       "      <td>3 doors down</td>\n",
       "      <td>here without you</td>\n",
       "      <td>/3-doors-down/here-without-you.html</td>\n",
       "      <td>A hundred days have made me older,. Since the ...</td>\n",
       "      <td>ENGLISH</td>\n",
       "      <td>3NLrRZoMF0Lx6zTlYqeIo4</td>\n",
       "      <td>76</td>\n",
       "      <td>0</td>\n",
       "      <td>['2RTUTCvo6onsAnheUk3aL9']</td>\n",
       "      <td>2002-11-12</td>\n",
       "      <td>...</td>\n",
       "      <td>0.233</td>\n",
       "      <td>143.994</td>\n",
       "      <td>4</td>\n",
       "      <td>0</td>\n",
       "      <td>Existential</td>\n",
       "      <td>0</td>\n",
       "      <td>1</td>\n",
       "      <td>0</td>\n",
       "      <td>0</td>\n",
       "      <td>0</td>\n",
       "    </tr>\n",
       "    <tr>\n",
       "      <th>4</th>\n",
       "      <td>3 doors down</td>\n",
       "      <td>when i'm gone</td>\n",
       "      <td>/3-doors-down/when-im-gone.html</td>\n",
       "      <td>There's another world inside of me that you ma...</td>\n",
       "      <td>ENGLISH</td>\n",
       "      <td>3WbphvawbMZ8FyqDxYGdSQ</td>\n",
       "      <td>70</td>\n",
       "      <td>0</td>\n",
       "      <td>['2RTUTCvo6onsAnheUk3aL9']</td>\n",
       "      <td>2002-11-12</td>\n",
       "      <td>...</td>\n",
       "      <td>0.374</td>\n",
       "      <td>148.095</td>\n",
       "      <td>4</td>\n",
       "      <td>0</td>\n",
       "      <td>Existential</td>\n",
       "      <td>0</td>\n",
       "      <td>1</td>\n",
       "      <td>0</td>\n",
       "      <td>0</td>\n",
       "      <td>0</td>\n",
       "    </tr>\n",
       "  </tbody>\n",
       "</table>\n",
       "<p>5 rows × 29 columns</p>\n",
       "</div>"
      ],
      "text/plain": [
       "         Artist                     name  \\\n",
       "0     12 stones            world so cold   \n",
       "1     12 stones  anthem for the underdog   \n",
       "2     12 stones               we are one   \n",
       "3  3 doors down         here without you   \n",
       "4  3 doors down            when i'm gone   \n",
       "\n",
       "                                     SLink  \\\n",
       "0            /12-stones/world-so-cold.html   \n",
       "1  /12-stones/anthem-for-the-underdog.html   \n",
       "2               /12-stones/we-are-one.html   \n",
       "3      /3-doors-down/here-without-you.html   \n",
       "4          /3-doors-down/when-im-gone.html   \n",
       "\n",
       "                                               Lyric    Idiom  \\\n",
       "0  It starts with pain, followed by hate. Fueled ...  ENGLISH   \n",
       "1  You say you know just who I am. But you can't ...  ENGLISH   \n",
       "2  We walk alone. In the unknown. We live to win ...  ENGLISH   \n",
       "3  A hundred days have made me older,. Since the ...  ENGLISH   \n",
       "4  There's another world inside of me that you ma...  ENGLISH   \n",
       "\n",
       "                       id  popularity  explicit                  id_artists  \\\n",
       "0  471eQ7hcJ7JdGY1NzMmUeg          55         0  ['0DrXhci3WAyo0WJv1RBOG6']   \n",
       "1  6FFwt1ea9hJ4MfMQLywahm          59         0  ['0DrXhci3WAyo0WJv1RBOG6']   \n",
       "2  4lhqal0Hq63U2wETCeBdG1          58         0  ['0DrXhci3WAyo0WJv1RBOG6']   \n",
       "3  3NLrRZoMF0Lx6zTlYqeIo4          76         0  ['2RTUTCvo6onsAnheUk3aL9']   \n",
       "4  3WbphvawbMZ8FyqDxYGdSQ          70         0  ['2RTUTCvo6onsAnheUk3aL9']   \n",
       "\n",
       "  release_date  ...  valence    tempo  time_signature  topic_id  \\\n",
       "0   2007-01-01  ...    0.394  186.227               3         4   \n",
       "1   2007-01-01  ...    0.468   93.977               3         0   \n",
       "2   2010-01-01  ...    0.306  127.102               4         4   \n",
       "3   2002-11-12  ...    0.233  143.994               4         0   \n",
       "4   2002-11-12  ...    0.374  148.095               4         0   \n",
       "\n",
       "   new_topic_name  new_topic_name_Love  new_topic_name_Existential  \\\n",
       "0            Love                    1                           0   \n",
       "1     Existential                    0                           1   \n",
       "2            Love                    1                           0   \n",
       "3     Existential                    0                           1   \n",
       "4     Existential                    0                           1   \n",
       "\n",
       "   new_topic_name_Gangsta  new_topic_name_Religion  new_topic_name_Poppy  \n",
       "0                       0                        0                     0  \n",
       "1                       0                        0                     0  \n",
       "2                       0                        0                     0  \n",
       "3                       0                        0                     0  \n",
       "4                       0                        0                     0  \n",
       "\n",
       "[5 rows x 29 columns]"
      ]
     },
     "execution_count": 49,
     "metadata": {},
     "output_type": "execute_result"
    }
   ],
   "source": [
    "df_merged_ohe = pd.concat([df_merged, ohe_topics], axis=1)\n",
    "df_merged_ohe.head()"
   ]
  },
  {
   "cell_type": "code",
   "execution_count": 50,
   "id": "82d9a56d",
   "metadata": {},
   "outputs": [
    {
     "name": "stderr",
     "output_type": "stream",
     "text": [
      "/Users/dylansivori/.local/share/virtualenvs/Spotify-Song-Suggester-AdyWyJ8v/lib/python3.8/site-packages/ipykernel/ipkernel.py:283: DeprecationWarning: `should_run_async` will not call `transform_cell` automatically in the future. Please pass the result to `transformed_cell` argument and any exception that happen during thetransform in `preprocessing_exc_tuple` in IPython 7.17 and above.\n",
      "  and should_run_async(code)\n"
     ]
    },
    {
     "data": {
      "text/html": [
       "<div>\n",
       "<style scoped>\n",
       "    .dataframe tbody tr th:only-of-type {\n",
       "        vertical-align: middle;\n",
       "    }\n",
       "\n",
       "    .dataframe tbody tr th {\n",
       "        vertical-align: top;\n",
       "    }\n",
       "\n",
       "    .dataframe thead th {\n",
       "        text-align: right;\n",
       "    }\n",
       "</style>\n",
       "<table border=\"1\" class=\"dataframe\">\n",
       "  <thead>\n",
       "    <tr style=\"text-align: right;\">\n",
       "      <th></th>\n",
       "      <th>Artist</th>\n",
       "      <th>name</th>\n",
       "      <th>SLink</th>\n",
       "      <th>Lyric</th>\n",
       "      <th>Idiom</th>\n",
       "      <th>id</th>\n",
       "      <th>popularity</th>\n",
       "      <th>explicit</th>\n",
       "      <th>id_artists</th>\n",
       "      <th>release_date</th>\n",
       "      <th>...</th>\n",
       "      <th>valence</th>\n",
       "      <th>tempo</th>\n",
       "      <th>time_signature</th>\n",
       "      <th>topic_id</th>\n",
       "      <th>new_topic_name</th>\n",
       "      <th>new_topic_name_Love</th>\n",
       "      <th>new_topic_name_Existential</th>\n",
       "      <th>new_topic_name_Gangsta</th>\n",
       "      <th>new_topic_name_Religion</th>\n",
       "      <th>new_topic_name_Poppy</th>\n",
       "    </tr>\n",
       "  </thead>\n",
       "  <tbody>\n",
       "    <tr>\n",
       "      <th>3776</th>\n",
       "      <td>john lennon</td>\n",
       "      <td>imagine</td>\n",
       "      <td>/john-lennon/imagine.html</td>\n",
       "      <td>Imagine there's no heaven. It's easy if you tr...</td>\n",
       "      <td>ENGLISH</td>\n",
       "      <td>4lwh5BoHBFGjKNAF3sNNCK</td>\n",
       "      <td>25</td>\n",
       "      <td>0</td>\n",
       "      <td>['4x1nvY2FN8jxqAFA0DA02H']</td>\n",
       "      <td>1971-09-09</td>\n",
       "      <td>...</td>\n",
       "      <td>0.218</td>\n",
       "      <td>74.4</td>\n",
       "      <td>4</td>\n",
       "      <td>4</td>\n",
       "      <td>Love</td>\n",
       "      <td>1</td>\n",
       "      <td>0</td>\n",
       "      <td>0</td>\n",
       "      <td>0</td>\n",
       "      <td>0</td>\n",
       "    </tr>\n",
       "  </tbody>\n",
       "</table>\n",
       "<p>1 rows × 29 columns</p>\n",
       "</div>"
      ],
      "text/plain": [
       "           Artist     name                      SLink  \\\n",
       "3776  john lennon  imagine  /john-lennon/imagine.html   \n",
       "\n",
       "                                                  Lyric    Idiom  \\\n",
       "3776  Imagine there's no heaven. It's easy if you tr...  ENGLISH   \n",
       "\n",
       "                          id  popularity  explicit  \\\n",
       "3776  4lwh5BoHBFGjKNAF3sNNCK          25         0   \n",
       "\n",
       "                      id_artists release_date  ...  valence  tempo  \\\n",
       "3776  ['4x1nvY2FN8jxqAFA0DA02H']   1971-09-09  ...    0.218   74.4   \n",
       "\n",
       "      time_signature  topic_id  new_topic_name  new_topic_name_Love  \\\n",
       "3776               4         4            Love                    1   \n",
       "\n",
       "      new_topic_name_Existential  new_topic_name_Gangsta  \\\n",
       "3776                           0                       0   \n",
       "\n",
       "      new_topic_name_Religion  new_topic_name_Poppy  \n",
       "3776                        0                     0  \n",
       "\n",
       "[1 rows x 29 columns]"
      ]
     },
     "execution_count": 50,
     "metadata": {},
     "output_type": "execute_result"
    }
   ],
   "source": [
    "# user selects what song\n",
    "user_selected_song = 'imagine'\n",
    "user_selected_artist = 'john lennon'\n",
    "\n",
    "song_row = df_merged_ohe[(df_merged_ohe['name'] == user_selected_song) & (df_merged_ohe['Artist'] == user_selected_artist)]\n",
    "song_row"
   ]
  },
  {
   "cell_type": "code",
   "execution_count": 51,
   "id": "50fa36e1",
   "metadata": {},
   "outputs": [
    {
     "name": "stderr",
     "output_type": "stream",
     "text": [
      "/Users/dylansivori/.local/share/virtualenvs/Spotify-Song-Suggester-AdyWyJ8v/lib/python3.8/site-packages/ipykernel/ipkernel.py:283: DeprecationWarning: `should_run_async` will not call `transform_cell` automatically in the future. Please pass the result to `transformed_cell` argument and any exception that happen during thetransform in `preprocessing_exc_tuple` in IPython 7.17 and above.\n",
      "  and should_run_async(code)\n"
     ]
    },
    {
     "data": {
      "text/plain": [
       "NearestNeighbors(algorithm='kd_tree', n_neighbors=10)"
      ]
     },
     "execution_count": 51,
     "metadata": {},
     "output_type": "execute_result"
    }
   ],
   "source": [
    "# drop categorical data, prepare for input to model\n",
    "song_row = keep_wanted_columns(song_row)\n",
    "df_dropped = keep_wanted_columns(df_merged_ohe)\n",
    "\n",
    "# instantiate Nearest Neighbors model\n",
    "nn = NearestNeighbors(n_neighbors=10, algorithm='kd_tree')\n",
    "\n",
    "# fit the model\n",
    "nn.fit(df_dropped)"
   ]
  },
  {
   "cell_type": "code",
   "execution_count": 52,
   "id": "695a4d08",
   "metadata": {},
   "outputs": [
    {
     "name": "stderr",
     "output_type": "stream",
     "text": [
      "/Users/dylansivori/.local/share/virtualenvs/Spotify-Song-Suggester-AdyWyJ8v/lib/python3.8/site-packages/ipykernel/ipkernel.py:283: DeprecationWarning: `should_run_async` will not call `transform_cell` automatically in the future. Please pass the result to `transformed_cell` argument and any exception that happen during thetransform in `preprocessing_exc_tuple` in IPython 7.17 and above.\n",
      "  and should_run_async(code)\n"
     ]
    }
   ],
   "source": [
    "neigh_dist, neigh_index = nn.kneighbors(song_row)"
   ]
  },
  {
   "cell_type": "code",
   "execution_count": 53,
   "id": "f36ce6ba",
   "metadata": {},
   "outputs": [
    {
     "name": "stderr",
     "output_type": "stream",
     "text": [
      "/Users/dylansivori/.local/share/virtualenvs/Spotify-Song-Suggester-AdyWyJ8v/lib/python3.8/site-packages/ipykernel/ipkernel.py:283: DeprecationWarning: `should_run_async` will not call `transform_cell` automatically in the future. Please pass the result to `transformed_cell` argument and any exception that happen during thetransform in `preprocessing_exc_tuple` in IPython 7.17 and above.\n",
      "  and should_run_async(code)\n"
     ]
    },
    {
     "data": {
      "text/plain": [
       "array([ 2434, 10275,   906,  2536,  1327,  8731, 11773,  2617,  8643])"
      ]
     },
     "execution_count": 53,
     "metadata": {},
     "output_type": "execute_result"
    }
   ],
   "source": [
    "neigh_index = neigh_index[0][1:]\n",
    "neigh_index"
   ]
  },
  {
   "cell_type": "code",
   "execution_count": 54,
   "id": "1e9fd083",
   "metadata": {},
   "outputs": [
    {
     "name": "stdout",
     "output_type": "stream",
     "text": [
      "my wish came true\n",
      "let me go\n",
      "i'm not there\n",
      "tell me why\n",
      "girl on my mind\n",
      "across the bridge where angels dwell\n",
      "wings of my love\n",
      "your love's been a long time coming\n",
      "too scared to run\n"
     ]
    },
    {
     "name": "stderr",
     "output_type": "stream",
     "text": [
      "/Users/dylansivori/.local/share/virtualenvs/Spotify-Song-Suggester-AdyWyJ8v/lib/python3.8/site-packages/ipykernel/ipkernel.py:283: DeprecationWarning: `should_run_async` will not call `transform_cell` automatically in the future. Please pass the result to `transformed_cell` argument and any exception that happen during thetransform in `preprocessing_exc_tuple` in IPython 7.17 and above.\n",
      "  and should_run_async(code)\n"
     ]
    }
   ],
   "source": [
    "for index in neigh_index:\n",
    "    print(df_merged['name'].iloc[index])"
   ]
  },
  {
   "cell_type": "code",
   "execution_count": 55,
   "id": "48dcd42d",
   "metadata": {},
   "outputs": [
    {
     "name": "stderr",
     "output_type": "stream",
     "text": [
      "/Users/dylansivori/.local/share/virtualenvs/Spotify-Song-Suggester-AdyWyJ8v/lib/python3.8/site-packages/ipykernel/ipkernel.py:283: DeprecationWarning: `should_run_async` will not call `transform_cell` automatically in the future. Please pass the result to `transformed_cell` argument and any exception that happen during thetransform in `preprocessing_exc_tuple` in IPython 7.17 and above.\n",
      "  and should_run_async(code)\n"
     ]
    },
    {
     "data": {
      "text/plain": [
       "['../data/NearestNeighborModelWithTopics']"
      ]
     },
     "execution_count": 55,
     "metadata": {},
     "output_type": "execute_result"
    }
   ],
   "source": [
    "# pickle trained model to be used in application\n",
    "joblib.dump(nn, '../data/NearestNeighborModelWithTopics')"
   ]
  },
  {
   "cell_type": "code",
   "execution_count": 56,
   "id": "330e84b0",
   "metadata": {
    "scrolled": true
   },
   "outputs": [
    {
     "name": "stderr",
     "output_type": "stream",
     "text": [
      "/Users/dylansivori/.local/share/virtualenvs/Spotify-Song-Suggester-AdyWyJ8v/lib/python3.8/site-packages/ipykernel/ipkernel.py:283: DeprecationWarning: `should_run_async` will not call `transform_cell` automatically in the future. Please pass the result to `transformed_cell` argument and any exception that happen during thetransform in `preprocessing_exc_tuple` in IPython 7.17 and above.\n",
      "  and should_run_async(code)\n"
     ]
    }
   ],
   "source": [
    "# export merged dataframe to csv\n",
    "df_merged_ohe.to_csv('../data/df_with_topics.csv')"
   ]
  },
  {
   "cell_type": "code",
   "execution_count": null,
   "id": "c3f1c731",
   "metadata": {},
   "outputs": [],
   "source": []
  },
  {
   "cell_type": "code",
   "execution_count": null,
   "id": "8996b91d",
   "metadata": {},
   "outputs": [],
   "source": []
  },
  {
   "cell_type": "code",
   "execution_count": null,
   "id": "110d5b81",
   "metadata": {},
   "outputs": [],
   "source": []
  }
 ],
 "metadata": {
  "kernelspec": {
   "display_name": "Python 3",
   "language": "python",
   "name": "python3"
  },
  "language_info": {
   "codemirror_mode": {
    "name": "ipython",
    "version": 3
   },
   "file_extension": ".py",
   "mimetype": "text/x-python",
   "name": "python",
   "nbconvert_exporter": "python",
   "pygments_lexer": "ipython3",
   "version": "3.8.7"
  }
 },
 "nbformat": 4,
 "nbformat_minor": 5
}
